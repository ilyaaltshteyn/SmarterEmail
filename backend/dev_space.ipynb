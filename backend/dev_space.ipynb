{
 "cells": [
  {
   "cell_type": "code",
   "execution_count": 8,
   "metadata": {
    "collapsed": false
   },
   "outputs": [],
   "source": [
    "import email\n",
    "import base64"
   ]
  },
  {
   "cell_type": "code",
   "execution_count": 71,
   "metadata": {
    "collapsed": false
   },
   "outputs": [],
   "source": [
    "# Tools to parse lists of raw but decoded emails returned by the Gmail class.\n",
    "\n",
    "import re\n",
    "from HTMLParser import HTMLParser\n",
    "\n",
    "class MLStripper(HTMLParser):\n",
    "    def __init__(self):\n",
    "        self.reset()\n",
    "        self.fed = []\n",
    "    def handle_data(self, d):\n",
    "        self.fed.append(d)\n",
    "    def get_data(self):\n",
    "        return ''.join(self.fed)\n",
    "\n",
    "def strip_tags(html):\n",
    "    s = MLStripper()\n",
    "    s.feed(html)\n",
    "    return s.get_data()\n",
    "\n",
    "class GmailParser():\n",
    "\n",
    "    def __init__(self, messages):\n",
    "        self.messages = messages\n",
    "        self.msgs_parsed = []\n",
    "\n",
    "    def parse_one(self, msg):\n",
    "        \"\"\" Parses a single Gmail message. \"\"\"\n",
    "\n",
    "        # Strip links first:\n",
    "        msg_delinked = strip_tags(msg)\n",
    "\n",
    "        up_to_reply = r'(?:(?!On (Mon |Tue |Wed |Thu |Fri |Sat |Sun |Mon, |Tue, |Wed, |Thu, |Fri, |Sat, |Sun, ))[\\s\\S])*'\n",
    "        up_to_carrot = r'.+?(?=>)'\n",
    "\n",
    "        match = re.search(up_to_reply, msg_delinked)\n",
    "\n",
    "        if match:\n",
    "            return 'MY EMAIL: {}'.format(match.group())\n",
    "        else:\n",
    "            match2 = re.search(up_to_carrot, msg)\n",
    "            if match2:\n",
    "                return 'MY EMAIL: {}'.format(match2.group())\n",
    "            else:\n",
    "                return\n",
    "\n",
    "    def parse(self):\n",
    "        \"\"\" Runs self.parse_one() on all messages in the list. Returns list of\n",
    "            parsed messages. \"\"\"\n",
    "\n",
    "        for m in self.messages:\n",
    "            try:\n",
    "                self.msgs_parsed.append(self.parse_one(m))\n",
    "            except:\n",
    "                print 'ENCOUNTERED MESSAGE PARSING PROBLEM'\n",
    "                continue\n",
    "\n",
    "        return self.msgs_parsed\n"
   ]
  },
  {
   "cell_type": "code",
   "execution_count": 72,
   "metadata": {
    "collapsed": false
   },
   "outputs": [],
   "source": [
    "m = \"\"\"Ok, gotcha\n",
    "\n",
    "I'm staying at a friends house in Bushwick tomorrow. Which isn't too far\n",
    "from crown heights, but there's no easy way to get between the two. What\n",
    "trains do you take to get home? We could meet part of the way down your\n",
    "commute or something\n",
    "\n",
    "On Wed, Jan 4, 2017 at 3:24 PM, Jaclyn Weiser <weiserjaclyn@gmail.com>\n",
    "wrote:\n",
    "\n",
    "> Hey! Where are you living? I'm free tomorrow after work around 7:30 or so=\n",
    ".\n",
    "> I'm work in the flatiron area and am still living in Crown Heights.\n",
    ">\n",
    "> I don't know anyone personally at SeatGeek.\n",
    ">\n",
    "> On Wed, Jan 4, 2017 at 3:08 PM, ilya altshteyn <ilya.altshteyn@gmail.com>\n",
    "> wrote:\n",
    ">\n",
    ">> Hey Jackie,\n",
    ">>\n",
    ">> Thanks for forwarding the DoubleVerify job posting.\n",
    ">>\n",
    ">> I see that you're linkedin friends with a few people at SeatGeek. Do you\n",
    ">> know them personally by any chance? I'm about to put in an app for an\n",
    ">> opening they have, and they're at the top of my list of companies.\n",
    ">>\n",
    ">> The people are Brian London\n",
    ">> <https://www.linkedin.com/profile/view?id=3DADEAAAz9jr8BsQ0lXzSvf0Ga7CUs=\n",
    "ZG20Ft1czn0&authType=3DOUT_OF_NETWORK&authToken=3Dt9oK&locale=3Den_US&srchi=\n",
    "d=3D580304841483560436931&srchindex=3D1&srchtotal=3D5&trk=3Dvsrp_people_res=\n",
    "_name&trkInfo=3DVSRPsearchId%3A580304841483560436931%2CVSRPtargetId%3A21794=\n",
    "3743%2CVSRPcmpt%3Aprimary%2CVSRPnm%3Afalse%2CauthType%3AOUT_OF_NETWORK>,\n",
    ">> Steve Ritter\n",
    ">> <https://www.linkedin.com/in/steve-ritter-69495210?authType=3DNAME_SEARC=\n",
    "H&authToken=3DiMM2&locale=3Den_US&trk=3Dtyah&trkInfo=3DclickedVertical%3Amy=\n",
    "network%2CclickedEntityId%3A38179408%2CauthType%3ANAME_SEARCH%2Cidx%3A1-1-1=\n",
    "%2CtarId%3A1483560464163%2Ctas%3Asteve%20ritt>\n",
    ">> and Tiffany Hu\n",
    ">> <https://www.linkedin.com/profile/view?id=3DADEAAA0xhmEB1iQvFja0D-aSKKyp=\n",
    "Q0M-XO49Ek0&authType=3Dname&authToken=3DqImR&locale=3Den_US&srchid=3D580304=\n",
    "841483560436931&srchindex=3D2&srchtotal=3D5&trk=3Dvsrp_people_res_name&trkI=\n",
    "nfo=3DVSRPsearchId%3A580304841483560436931%2CVSRPtargetId%3A221349473%2CVSR=\n",
    "Pcmpt%3Aprimary%2CVSRPnm%3Afalse%2CauthType%3Aname>.\n",
    ">> If you know any of them personally could you introduce me please?\n",
    ">>\n",
    ">> Also, I'm back in NYC and free to catch up any day except for today.\n",
    ">> Maybe a drink tomorrow or this weekend?\n",
    ">>\n",
    ">> Thanks,\n",
    ">> ilya\n",
    ">>\n",
    ">\n",
    ">\n",
    "\"\"\""
   ]
  },
  {
   "cell_type": "code",
   "execution_count": 78,
   "metadata": {
    "collapsed": false
   },
   "outputs": [],
   "source": [
    "g = GmailParser([m])\n",
    "parsed = g.parse()"
   ]
  },
  {
   "cell_type": "code",
   "execution_count": 83,
   "metadata": {
    "collapsed": false
   },
   "outputs": [
    {
     "name": "stdout",
     "output_type": "stream",
     "text": [
      "Help on instance of textstatistics in module textstat.textstat:\n",
      "\n",
      "class textstatistics\n",
      " |  Methods defined here:\n",
      " |  \n",
      " |  __init__(self)\n",
      " |  \n",
      " |  automated_readability_index(self, text)\n",
      " |  \n",
      " |  avg_letter_per_word(self, text)\n",
      " |  \n",
      " |  avg_sentence_length(self, text)\n",
      " |  \n",
      " |  avg_sentence_per_word(self, text)\n",
      " |  \n",
      " |  avg_syllables_per_word(self, text)\n",
      " |  \n",
      " |  char_count(self, text, ignore_spaces=True)\n",
      " |      Function to return total character counts in a text, pass the following parameter\n",
      " |      ignore_spaces = False\n",
      " |      to ignore whitespaces\n",
      " |  \n",
      " |  coleman_liau_index(self, text)\n",
      " |  \n",
      " |  dale_chall_readability_score(self, text)\n",
      " |  \n",
      " |  difficult_words(self, text)\n",
      " |  \n",
      " |  flesch_kincaid_grade(self, text)\n",
      " |  \n",
      " |  flesch_reading_ease(self, text)\n",
      " |  \n",
      " |  gunning_fog(self, text)\n",
      " |  \n",
      " |  lexicon_count(self, text, removepunct=True)\n",
      " |      Function to return total lexicon (words in lay terms) counts in a text\n",
      " |  \n",
      " |  linsear_write_formula(self, text)\n",
      " |  \n",
      " |  polysyllabcount(self, text)\n",
      " |  \n",
      " |  sentence_count(self, text)\n",
      " |      Sentence count of a text\n",
      " |  \n",
      " |  smog_index(self, text)\n",
      " |  \n",
      " |  syllable_count(self, text)\n",
      " |      Function to calculate syllable words in a text.\n",
      " |      I/P - a text\n",
      " |      O/P - number of syllable words\n",
      " |  \n",
      " |  text_standard(self, text)\n",
      "\n"
     ]
    }
   ],
   "source": [
    "from textstat.textstat import textstat as tstat\n",
    "help(tstat)"
   ]
  },
  {
   "cell_type": "code",
   "execution_count": 47,
   "metadata": {
    "collapsed": false
   },
   "outputs": [
    {
     "ename": "TypeError",
     "evalue": "Incorrect padding",
     "output_type": "error",
     "traceback": [
      "\u001b[0;31m---------------------------------------------------------------------------\u001b[0m",
      "\u001b[0;31mTypeError\u001b[0m                                 Traceback (most recent call last)",
      "\u001b[0;32m<ipython-input-47-e17e71bed441>\u001b[0m in \u001b[0;36m<module>\u001b[0;34m()\u001b[0m\n\u001b[1;32m      1\u001b[0m \u001b[0;32mimport\u001b[0m \u001b[0mbase64\u001b[0m\u001b[0;34m\u001b[0m\u001b[0m\n\u001b[0;32m----> 2\u001b[0;31m \u001b[0mbase64\u001b[0m\u001b[0;34m.\u001b[0m\u001b[0mb64decode\u001b[0m\u001b[0;34m(\u001b[0m\u001b[0;34m'SGkgR2lsYWQsDQoNCkkganVzdCBhcHBsaWVkIGZvciB0aGUgRGF0YSBTY2llbnRpc3QgDQo8aHR0cDovL2RzdGlsbGVyeS5jb20vY2FyZWVycy9saXN0aW5ncy9kZXRhaWxzLz9naF9qaWQ9NDY3NjI2PiBwb3NpdGlvbiB5b3UgDQpoYXZlIG9wZW4gYXQgRHN0aWxsZXJ5LiBJdCBsb29rcyBsaWtlIGEgZ3JlYXQgZml0LCBzbyBJIHdhbnRlZCB0byBmb2xsb3cgdXAgDQp3aXRoIGEgbm90ZS4gQXJlIHlvdSB0aGUgcmlnaHQgcGVyc29uIHRvIHRhbGsgdG8gYWJvdXQgYXBwbHlpbmc_DQoNCkkgaGF2ZSA1IHllYXJzIG9mIGV4cGVyaWVuY2Ugd29ya2luZyB3aXRoIHF1YW50aXRhdGl2ZSBkYXRhLCBpbmNsdWRpbmcgTllDIA0Kd29yayBleHBlcmllbmNlIGFzIGEgZGF0YSBzY2llbnRpc3QuIEkgaGF2ZSBleHBlcmllbmNlIHdyaXRpbmcgcHJvZHVjdGlvbiANCmNvZGUgaW4gUHl0aG9uIGFuZCBkZXZlbG9waW5nIG1hY2hpbmUgbGVhcm5pbmcgbW9kZWxzIHVzaW5nIGl0cyBkYXRhIA0Kc2NpZW5jZSBsaWJyYXJpZXMsIEkgdXNlIFNRTCBhbmQgVU5JWCBkYWlseSwgYW5kIGhhdmUgYSBiYWNrZ3JvdW5kIGluIA0KcXVhbnRpdGF0aXZlIGFjYWRlbWljIHJlc2VhcmNoLg0KDQpJIGF0dGFjaGVkIG15IHJlc3VtZSBoZXJlLCBhbmQgeW91IGNhbiBmaW5kIHNvbWUgb2YgbXkgcHJvamVjdHMgb24gbXkgDQp3ZWJzaXRlIDxodHRwOi8vaWx5YWFsdHNodGV5bi5jb20vPi4NCg0KVGhhbmtzIQ0KSWx5YQ0K'\u001b[0m\u001b[0;34m)\u001b[0m\u001b[0;34m\u001b[0m\u001b[0m\n\u001b[0m",
      "\u001b[0;32m/usr/local/Cellar/python/2.7.9/Frameworks/Python.framework/Versions/2.7/lib/python2.7/base64.pyc\u001b[0m in \u001b[0;36mb64decode\u001b[0;34m(s, altchars)\u001b[0m\n\u001b[1;32m     74\u001b[0m     \u001b[0;32mexcept\u001b[0m \u001b[0mbinascii\u001b[0m\u001b[0;34m.\u001b[0m\u001b[0mError\u001b[0m\u001b[0;34m,\u001b[0m \u001b[0mmsg\u001b[0m\u001b[0;34m:\u001b[0m\u001b[0;34m\u001b[0m\u001b[0m\n\u001b[1;32m     75\u001b[0m         \u001b[0;31m# Transform this exception for consistency\u001b[0m\u001b[0;34m\u001b[0m\u001b[0;34m\u001b[0m\u001b[0m\n\u001b[0;32m---> 76\u001b[0;31m         \u001b[0;32mraise\u001b[0m \u001b[0mTypeError\u001b[0m\u001b[0;34m(\u001b[0m\u001b[0mmsg\u001b[0m\u001b[0;34m)\u001b[0m\u001b[0;34m\u001b[0m\u001b[0m\n\u001b[0m\u001b[1;32m     77\u001b[0m \u001b[0;34m\u001b[0m\u001b[0m\n\u001b[1;32m     78\u001b[0m \u001b[0;34m\u001b[0m\u001b[0m\n",
      "\u001b[0;31mTypeError\u001b[0m: Incorrect padding"
     ]
    }
   ],
   "source": [
    "import base64\n",
    "base64.b64decode('SGkgR2lsYWQsDQoNCkkganVzdCBhcHBsaWVkIGZvciB0aGUgRGF0YSBTY2llbnRpc3QgDQo8aHR0cDovL2RzdGlsbGVyeS5jb20vY2FyZWVycy9saXN0aW5ncy9kZXRhaWxzLz9naF9qaWQ9NDY3NjI2PiBwb3NpdGlvbiB5b3UgDQpoYXZlIG9wZW4gYXQgRHN0aWxsZXJ5LiBJdCBsb29rcyBsaWtlIGEgZ3JlYXQgZml0LCBzbyBJIHdhbnRlZCB0byBmb2xsb3cgdXAgDQp3aXRoIGEgbm90ZS4gQXJlIHlvdSB0aGUgcmlnaHQgcGVyc29uIHRvIHRhbGsgdG8gYWJvdXQgYXBwbHlpbmc_DQoNCkkgaGF2ZSA1IHllYXJzIG9mIGV4cGVyaWVuY2Ugd29ya2luZyB3aXRoIHF1YW50aXRhdGl2ZSBkYXRhLCBpbmNsdWRpbmcgTllDIA0Kd29yayBleHBlcmllbmNlIGFzIGEgZGF0YSBzY2llbnRpc3QuIEkgaGF2ZSBleHBlcmllbmNlIHdyaXRpbmcgcHJvZHVjdGlvbiANCmNvZGUgaW4gUHl0aG9uIGFuZCBkZXZlbG9waW5nIG1hY2hpbmUgbGVhcm5pbmcgbW9kZWxzIHVzaW5nIGl0cyBkYXRhIA0Kc2NpZW5jZSBsaWJyYXJpZXMsIEkgdXNlIFNRTCBhbmQgVU5JWCBkYWlseSwgYW5kIGhhdmUgYSBiYWNrZ3JvdW5kIGluIA0KcXVhbnRpdGF0aXZlIGFjYWRlbWljIHJlc2VhcmNoLg0KDQpJIGF0dGFjaGVkIG15IHJlc3VtZSBoZXJlLCBhbmQgeW91IGNhbiBmaW5kIHNvbWUgb2YgbXkgcHJvamVjdHMgb24gbXkgDQp3ZWJzaXRlIDxodHRwOi8vaWx5YWFsdHNodGV5bi5jb20vPi4NCg0KVGhhbmtzIQ0KSWx5YQ0K')"
   ]
  },
  {
   "cell_type": "code",
   "execution_count": 15,
   "metadata": {
    "collapsed": false
   },
   "outputs": [
    {
     "ename": "TypeError",
     "evalue": "Incorrect padding",
     "output_type": "error",
     "traceback": [
      "\u001b[0;31m---------------------------------------------------------------------------\u001b[0m",
      "\u001b[0;31mTypeError\u001b[0m                                 Traceback (most recent call last)",
      "\u001b[0;32m<ipython-input-15-78d4c7d20300>\u001b[0m in \u001b[0;36m<module>\u001b[0;34m()\u001b[0m\n\u001b[0;32m----> 1\u001b[0;31m \u001b[0mbase64\u001b[0m\u001b[0;34m.\u001b[0m\u001b[0mb64decode\u001b[0m\u001b[0;34m(\u001b[0m\u001b[0;34m'PGRpdiBkaXI9Imx0ciI-PGRpdj5JIHRoaW5rIHVwZGF0aW5nIHRoZXNlIGluIHlvdXIgJnF1b3Q7ZGVza3RvcCZxdW90OyBsYXlvdXQgd291bGQgaGVscDo8L2Rpdj48ZGl2PjEuIExpbmUgaXQgdXAgb24gYSBncmlkIChsaWtlIHlvdSYjMzk7dmUgZG9uZSB3aXRoIHRoZSByZWNlbnQgcHJvamVjdHMgc2VjdGlvbikuPC9kaXY-PGRpdj4yLiBBZGQgd2hpdGVzcGFjZSBiZXR3ZWVuOjwvZGl2PjxkaXY-wqAgwqAgLWhlYWRlciBjb250ZW50IGFuZCB0b3Agb2Ygc2NyZWVuPC9kaXY-PGRpdj7CoCDCoCAtYm9keSBjb250ZW50IGFuZCB5b3VyIHByb2ZpbGUgaW1hZ2U8L2Rpdj48ZGl2PsKgIMKgIC1wYXJhZ3JhcGhzLjwvZGl2PjxkaXY-My4gSXQgbG9va3MgbGlrZSBhIG1vYmlsZSBsYXlvdXQsIHdpdGggbGlua3Mgc3ByZWFkIGFjcm9zcyB0b3AgYW5kIG5vIGxvZ28uPC9kaXY-PGRpdj48YnI-PC9kaXY-PGRpdj5Ob3RlIGhvdyB0aGUgbGVmdCBlZGdlIG9mIHRoZSBwaG90byBsaW5lcyB1cCBwZXJmZWN0bHkgd2l0aCB0aGUgbGVmdCBlZGdlIG9mIHRoZSBuYW1lIGFuZCB3aXRoIHRoZSB0b3Agb2YgdGhlIHdvcmQgQUJPVVQtLSB0aGF0JiMzOTtzIGEgZ3JpZC4gVGhlIGVudGlyZSBzaXRlIHNob3VsZCBiZSBvbiBvbmUgZ3JpZC7CoDwvZGl2PjxkaXY-PGJyPjwvZGl2PjxpbWcgc3JjPSJjaWQ6aWlfaXgwa2o1MnIwXzE1OTI3NGZjNDg2N2Y2YzEiIHdpZHRoPSI0NjQiIGhlaWdodD0iMjkwIj48ZGl2Pjxicj48L2Rpdj48ZGl2Pjxicj48L2Rpdj48ZGl2PjxpbWcgc3JjPSJjaWQ6aWlfaXgwa2o1M2kxXzE1OTI3NGZjNDg2N2Y2YzEiIHdpZHRoPSI0NjQiIGhlaWdodD0iMjkwIj48YnI-4oCLPGJyPjwvZGl2PjxkaXY-VGhlIGhlYWRpbmcgYW5kIHRpdGxlIGZvbnRzIGluIHRoaXMgdmVyc2lvbiBhcmUgRnV0dXJhIFBULiBUaGUgYm9keSB0ZXh0IGlzIFByb3hpbWEgTm92YS4gVGhlIGZvbnRzIHlvdSBoYXZlIG5vdyBtaWdodCBiZSBmaW5lLCBidXQganVzdCBtZW50aW9uaW5nIHRoaXMgaW4gY2FzZSB5b3UmIzM5O3JlIGN1cmlvdXMuPGJyPjwvZGl2PjxkaXY-PGJyPjwvZGl2PjxkaXY-PGJyPjwvZGl2PjwvZGl2Pg0K'\u001b[0m\u001b[0;34m)\u001b[0m\u001b[0;34m\u001b[0m\u001b[0m\n\u001b[0m",
      "\u001b[0;32m/usr/local/Cellar/python/2.7.9/Frameworks/Python.framework/Versions/2.7/lib/python2.7/base64.pyc\u001b[0m in \u001b[0;36mb64decode\u001b[0;34m(s, altchars)\u001b[0m\n\u001b[1;32m     74\u001b[0m     \u001b[0;32mexcept\u001b[0m \u001b[0mbinascii\u001b[0m\u001b[0;34m.\u001b[0m\u001b[0mError\u001b[0m\u001b[0;34m,\u001b[0m \u001b[0mmsg\u001b[0m\u001b[0;34m:\u001b[0m\u001b[0;34m\u001b[0m\u001b[0m\n\u001b[1;32m     75\u001b[0m         \u001b[0;31m# Transform this exception for consistency\u001b[0m\u001b[0;34m\u001b[0m\u001b[0;34m\u001b[0m\u001b[0m\n\u001b[0;32m---> 76\u001b[0;31m         \u001b[0;32mraise\u001b[0m \u001b[0mTypeError\u001b[0m\u001b[0;34m(\u001b[0m\u001b[0mmsg\u001b[0m\u001b[0;34m)\u001b[0m\u001b[0;34m\u001b[0m\u001b[0m\n\u001b[0m\u001b[1;32m     77\u001b[0m \u001b[0;34m\u001b[0m\u001b[0m\n\u001b[1;32m     78\u001b[0m \u001b[0;34m\u001b[0m\u001b[0m\n",
      "\u001b[0;31mTypeError\u001b[0m: Incorrect padding"
     ]
    }
   ],
   "source": [
    "base64.b64decode('PGRpdiBkaXI9Imx0ciI-PGRpdj5JIHRoaW5rIHVwZGF0aW5nIHRoZXNlIGluIHlvdXIgJnF1b3Q7ZGVza3RvcCZxdW90OyBsYXlvdXQgd291bGQgaGVscDo8L2Rpdj48ZGl2PjEuIExpbmUgaXQgdXAgb24gYSBncmlkIChsaWtlIHlvdSYjMzk7dmUgZG9uZSB3aXRoIHRoZSByZWNlbnQgcHJvamVjdHMgc2VjdGlvbikuPC9kaXY-PGRpdj4yLiBBZGQgd2hpdGVzcGFjZSBiZXR3ZWVuOjwvZGl2PjxkaXY-wqAgwqAgLWhlYWRlciBjb250ZW50IGFuZCB0b3Agb2Ygc2NyZWVuPC9kaXY-PGRpdj7CoCDCoCAtYm9keSBjb250ZW50IGFuZCB5b3VyIHByb2ZpbGUgaW1hZ2U8L2Rpdj48ZGl2PsKgIMKgIC1wYXJhZ3JhcGhzLjwvZGl2PjxkaXY-My4gSXQgbG9va3MgbGlrZSBhIG1vYmlsZSBsYXlvdXQsIHdpdGggbGlua3Mgc3ByZWFkIGFjcm9zcyB0b3AgYW5kIG5vIGxvZ28uPC9kaXY-PGRpdj48YnI-PC9kaXY-PGRpdj5Ob3RlIGhvdyB0aGUgbGVmdCBlZGdlIG9mIHRoZSBwaG90byBsaW5lcyB1cCBwZXJmZWN0bHkgd2l0aCB0aGUgbGVmdCBlZGdlIG9mIHRoZSBuYW1lIGFuZCB3aXRoIHRoZSB0b3Agb2YgdGhlIHdvcmQgQUJPVVQtLSB0aGF0JiMzOTtzIGEgZ3JpZC4gVGhlIGVudGlyZSBzaXRlIHNob3VsZCBiZSBvbiBvbmUgZ3JpZC7CoDwvZGl2PjxkaXY-PGJyPjwvZGl2PjxpbWcgc3JjPSJjaWQ6aWlfaXgwa2o1MnIwXzE1OTI3NGZjNDg2N2Y2YzEiIHdpZHRoPSI0NjQiIGhlaWdodD0iMjkwIj48ZGl2Pjxicj48L2Rpdj48ZGl2Pjxicj48L2Rpdj48ZGl2PjxpbWcgc3JjPSJjaWQ6aWlfaXgwa2o1M2kxXzE1OTI3NGZjNDg2N2Y2YzEiIHdpZHRoPSI0NjQiIGhlaWdodD0iMjkwIj48YnI-4oCLPGJyPjwvZGl2PjxkaXY-VGhlIGhlYWRpbmcgYW5kIHRpdGxlIGZvbnRzIGluIHRoaXMgdmVyc2lvbiBhcmUgRnV0dXJhIFBULiBUaGUgYm9keSB0ZXh0IGlzIFByb3hpbWEgTm92YS4gVGhlIGZvbnRzIHlvdSBoYXZlIG5vdyBtaWdodCBiZSBmaW5lLCBidXQganVzdCBtZW50aW9uaW5nIHRoaXMgaW4gY2FzZSB5b3UmIzM5O3JlIGN1cmlvdXMuPGJyPjwvZGl2PjxkaXY-PGJyPjwvZGl2PjxkaXY-PGJyPjwvZGl2PjwvZGl2Pg0K')"
   ]
  },
  {
   "cell_type": "code",
   "execution_count": 54,
   "metadata": {
    "collapsed": false
   },
   "outputs": [
    {
     "name": "stdout",
     "output_type": "stream",
     "text": [
      "<div dir=\"ltr\"\u0012\u001aH\u0011�[\u0018Y\u000b",
      "\u000f\u0019\u001a]��\u0018����F�`���$����Ё����������ȁѡ�\n",
      "�񄁡ɕ�����輽��ѥ����乍�����ɕ��̽���ѥ��̽��х��̼���}���������؈�хɝ���}�������\u0011�ф�M����ѥ�������ͥѥ����ԁ��ٔ�������Ё\u0011�ѥ����丁%Ё����́��������ɕ�Ё��а�ͼ�$�݅�ѕ��Ѽ������܁���ݥѠ�����є��\u0005ɔ��ԁѡ��ɥ��Ё���ͽ��Ѽ�х���Ѽ�����Ё����她�</div\u000f\u0019\u001a]��\u0018����F�`������$���ٔ�ԁ啅�́�������ɥ�����ݽɭ����ݥѠ��Յ�ѥхѥٔ���ф������Ց����9e\f",
      "�ݽɬ�����ɥ������́����ф�͍���ѥ�и�$���ٔ�����ɥ������ɥѥ����ɽ�Սѥ�����������A�ѡ���������ٕ������������������ɹ���������́�ͥ�����́��ф�͍���������Ʌɥ�̰�$��͔�ME0�����U9%`�����䰁������ٔ��������ɽչ������Յ�ѥхѥٔ����������ɕ͕�ɍ��𽑥��𽑥��������𽑥�����$���х�������ɕ�յ����ɔ�������ԁ���������ͽ���������ɽ����́��\n",
      "�񄁡ɕ�����輽��充��͡ѕ帹������хɝ���}���������ݕ�ͥє�.<br></div><div><br></div><div>Thanks!</div><div>Ilya</div></div>\r\n",
      "\n"
     ]
    }
   ],
   "source": [
    "for p in em3['parts'][0]['parts']:\n",
    "    try:\n",
    "        print base64.b64decode(p['body']['data'])\n",
    "    except:\n",
    "        pass"
   ]
  },
  {
   "cell_type": "code",
   "execution_count": 63,
   "metadata": {
    "collapsed": false
   },
   "outputs": [
    {
     "name": "stdout",
     "output_type": "stream",
     "text": [
      "'PGRpdiBkaXI9Imx0ciI-SGkgR2lsYWQsPGRpdj48YnI-PC9kaXY-PGRpdj5JIGp1c3QgYXBwbGllZCBmb3IgdGhlwqA8YSBocmVmPSJodHRwOi8vZHN0aWxsZXJ5LmNvbS9jYXJlZXJzL2xpc3RpbmdzL2RldGFpbHMvP2doX2ppZD00Njc2MjYiIHRhcmdldD0iX2JsYW5rIj5EYXRhIFNjaWVudGlzdDwvYT4gcG9zaXRpb24geW91IGhhdmUgb3BlbiBhdCBEc3RpbGxlcnkuIEl0IGxvb2tzIGxpa2UgYSBncmVhdCBmaXQsIHNvIEkgd2FudGVkIHRvIGZvbGxvdyB1cCB3aXRoIGEgbm90ZS4gQXJlIHlvdSB0aGUgcmlnaHQgcGVyc29uIHRvIHRhbGsgdG8gYWJvdXQgYXBwbHlpbmc_PC9kaXY-PGRpdj48YnI-PC9kaXY-PGRpdj48ZGl2PkkgaGF2ZSA1IHllYXJzIG9mIGV4cGVyaWVuY2Ugd29ya2luZyB3aXRoIHF1YW50aXRhdGl2ZSBkYXRhLCBpbmNsdWRpbmcgTllDIHdvcmsgZXhwZXJpZW5jZSBhcyBhIGRhdGEgc2NpZW50aXN0LiBJIGhhdmUgZXhwZXJpZW5jZSB3cml0aW5nIHByb2R1Y3Rpb24gY29kZSBpbiBQeXRob24gYW5kIGRldmVsb3BpbmcgbWFjaGluZSBsZWFybmluZyBtb2RlbHMgdXNpbmcgaXRzIGRhdGEgc2NpZW5jZSBsaWJyYXJpZXMsIEkgdXNlIFNRTCBhbmQgVU5JWCBkYWlseSwgYW5kIGhhdmUgYSBiYWNrZ3JvdW5kIGluIHF1YW50aXRhdGl2ZSBhY2FkZW1pYyByZXNlYXJjaC48L2Rpdj48L2Rpdj48ZGl2Pjxicj48L2Rpdj48ZGl2PkkgYXR0YWNoZWQgbXkgcmVzdW1lIGhlcmUsIGFuZCB5b3UgY2FuIGZpbmQgc29tZSBvZiBteSBwcm9qZWN0cyBvbsKgPGEgaHJlZj0iaHR0cDovL2lseWFhbHRzaHRleW4uY29tLyIgdGFyZ2V0PSJfYmxhbmsiPm15IHdlYnNpdGU8L2E-Ljxicj48L2Rpdj48ZGl2Pjxicj48L2Rpdj48ZGl2PlRoYW5rcyE8L2Rpdj48ZGl2PklseWE8L2Rpdj48L2Rpdj4NCg=='\n"
     ]
    }
   ],
   "source": [
    "pprint.pprint(em3['parts'][0]['parts'][1]['body']['data'])"
   ]
  },
  {
   "cell_type": "code",
   "execution_count": 68,
   "metadata": {
    "collapsed": false
   },
   "outputs": [
    {
     "data": {
      "text/plain": [
       "'<div dir=\"ltr\"\\x12\\x1aH\\x11\\xda[\\x18Y\\x0b\\x0f\\x19\\x1a]\\x8f\\x8f\\x18\\x9c\\x83\\xc2\\xf6F\\x97`\\xf1\\x91\\xa5\\xd8\\xf9$\\x81\\xa9\\xd5\\xcd\\xd0\\x81\\x85\\xc1\\xc1\\xb1\\xa5\\x95\\x90\\x81\\x99\\xbd\\xc8\\x81\\xd1\\xa1\\x97\\n\\x80\\xf1\\x84\\x81\\xa1\\xc9\\x95\\x98\\xf4\\x89\\xa1\\xd1\\xd1\\xc0\\xe8\\xbc\\xbd\\x91\\xcd\\xd1\\xa5\\xb1\\xb1\\x95\\xc9\\xe4\\xb9\\x8d\\xbd\\xb4\\xbd\\x8d\\x85\\xc9\\x95\\x95\\xc9\\xcc\\xbd\\xb1\\xa5\\xcd\\xd1\\xa5\\xb9\\x9d\\xcc\\xbd\\x91\\x95\\xd1\\x85\\xa5\\xb1\\xcc\\xbc\\xfd\\x9d\\xa1}\\xa9\\xa5\\x90\\xf4\\xd0\\xd8\\xdc\\xd8\\xc8\\xd8\\x88\\x81\\xd1\\x85\\xc9\\x9d\\x95\\xd0\\xf4\\x89}\\x89\\xb1\\x85\\xb9\\xac\\x88\\xf9\\x11\\x85\\xd1\\x84\\x81M\\x8d\\xa5\\x95\\xb9\\xd1\\xa5\\xcd\\xd0\\xf0\\xbd\\x84\\xf8\\x81\\xc1\\xbd\\xcd\\xa5\\xd1\\xa5\\xbd\\xb8\\x81\\xe5\\xbd\\xd4\\x81\\xa1\\x85\\xd9\\x94\\x81\\xbd\\xc1\\x95\\xb8\\x81\\x85\\xd0\\x81\\x11\\xcd\\xd1\\xa5\\xb1\\xb1\\x95\\xc9\\xe4\\xb8\\x81%\\xd0\\x81\\xb1\\xbd\\xbd\\xad\\xcc\\x81\\xb1\\xa5\\xad\\x94\\x81\\x84\\x81\\x9d\\xc9\\x95\\x85\\xd0\\x81\\x99\\xa5\\xd0\\xb0\\x81\\xcd\\xbc\\x81$\\x81\\xdd\\x85\\xb9\\xd1\\x95\\x90\\x81\\xd1\\xbc\\x81\\x99\\xbd\\xb1\\xb1\\xbd\\xdc\\x81\\xd5\\xc0\\x81\\xdd\\xa5\\xd1\\xa0\\x81\\x84\\x81\\xb9\\xbd\\xd1\\x94\\xb8\\x81\\x05\\xc9\\x94\\x81\\xe5\\xbd\\xd4\\x81\\xd1\\xa1\\x94\\x81\\xc9\\xa5\\x9d\\xa1\\xd0\\x81\\xc1\\x95\\xc9\\xcd\\xbd\\xb8\\x81\\xd1\\xbc\\x81\\xd1\\x85\\xb1\\xac\\x81\\xd1\\xbc\\x81\\x85\\x89\\xbd\\xd5\\xd0\\x81\\x85\\xc1\\xc1\\xb1\\xe5\\xa5\\xb9\\x9c</div\\x0f\\x19\\x1a]\\x8f\\x8f\\x18\\x9c\\x83\\xc2\\xf6F\\x97`\\xf1\\x91\\xa5\\xd8\\xf8\\xf1\\x91\\xa5\\xd8\\xf9$\\x81\\xa1\\x85\\xd9\\x94\\x80\\xd4\\x81\\xe5\\x95\\x85\\xc9\\xcc\\x81\\xbd\\x98\\x81\\x95\\xe1\\xc1\\x95\\xc9\\xa5\\x95\\xb9\\x8d\\x94\\x81\\xdd\\xbd\\xc9\\xad\\xa5\\xb9\\x9c\\x81\\xdd\\xa5\\xd1\\xa0\\x81\\xc5\\xd5\\x85\\xb9\\xd1\\xa5\\xd1\\x85\\xd1\\xa5\\xd9\\x94\\x81\\x91\\x85\\xd1\\x84\\xb0\\x81\\xa5\\xb9\\x8d\\xb1\\xd5\\x91\\xa5\\xb9\\x9c\\x819e\\x0c\\x81\\xdd\\xbd\\xc9\\xac\\x81\\x95\\xe1\\xc1\\x95\\xc9\\xa5\\x95\\xb9\\x8d\\x94\\x81\\x85\\xcc\\x81\\x84\\x81\\x91\\x85\\xd1\\x84\\x81\\xcd\\x8d\\xa5\\x95\\xb9\\xd1\\xa5\\xcd\\xd0\\xb8\\x81$\\x81\\xa1\\x85\\xd9\\x94\\x81\\x95\\xe1\\xc1\\x95\\xc9\\xa5\\x95\\xb9\\x8d\\x94\\x81\\xdd\\xc9\\xa5\\xd1\\xa5\\xb9\\x9c\\x81\\xc1\\xc9\\xbd\\x91\\xd5\\x8d\\xd1\\xa5\\xbd\\xb8\\x81\\x8d\\xbd\\x91\\x94\\x81\\xa5\\xb8\\x81A\\xe5\\xd1\\xa1\\xbd\\xb8\\x81\\x85\\xb9\\x90\\x81\\x91\\x95\\xd9\\x95\\xb1\\xbd\\xc1\\xa5\\xb9\\x9c\\x81\\xb5\\x85\\x8d\\xa1\\xa5\\xb9\\x94\\x81\\xb1\\x95\\x85\\xc9\\xb9\\xa5\\xb9\\x9c\\x81\\xb5\\xbd\\x91\\x95\\xb1\\xcc\\x81\\xd5\\xcd\\xa5\\xb9\\x9c\\x81\\xa5\\xd1\\xcc\\x81\\x91\\x85\\xd1\\x84\\x81\\xcd\\x8d\\xa5\\x95\\xb9\\x8d\\x94\\x81\\xb1\\xa5\\x89\\xc9\\x85\\xc9\\xa5\\x95\\xcc\\xb0\\x81$\\x81\\xd5\\xcd\\x94\\x81ME0\\x81\\x85\\xb9\\x90\\x81U9%`\\x81\\x91\\x85\\xa5\\xb1\\xe4\\xb0\\x81\\x85\\xb9\\x90\\x81\\xa1\\x85\\xd9\\x94\\x81\\x84\\x81\\x89\\x85\\x8d\\xad\\x9d\\xc9\\xbd\\xd5\\xb9\\x90\\x81\\xa5\\xb8\\x81\\xc5\\xd5\\x85\\xb9\\xd1\\xa5\\xd1\\x85\\xd1\\xa5\\xd9\\x94\\x81\\x85\\x8d\\x85\\x91\\x95\\xb5\\xa5\\x8c\\x81\\xc9\\x95\\xcd\\x95\\x85\\xc9\\x8d\\xa0\\xb8\\xf0\\xbd\\x91\\xa5\\xd8\\xf8\\xf0\\xbd\\x91\\xa5\\xd8\\xf8\\xf1\\x91\\xa5\\xd8\\xf8\\xf1\\x89\\xc8\\xf8\\xf0\\xbd\\x91\\xa5\\xd8\\xf8\\xf1\\x91\\xa5\\xd8\\xf9$\\x81\\x85\\xd1\\xd1\\x85\\x8d\\xa1\\x95\\x90\\x81\\xb5\\xe4\\x81\\xc9\\x95\\xcd\\xd5\\xb5\\x94\\x81\\xa1\\x95\\xc9\\x94\\xb0\\x81\\x85\\xb9\\x90\\x81\\xe5\\xbd\\xd4\\x81\\x8d\\x85\\xb8\\x81\\x99\\xa5\\xb9\\x90\\x81\\xcd\\xbd\\xb5\\x94\\x81\\xbd\\x98\\x81\\xb5\\xe4\\x81\\xc1\\xc9\\xbd\\xa9\\x95\\x8d\\xd1\\xcc\\x81\\xbd\\xbb\\n\\x80\\xf1\\x84\\x81\\xa1\\xc9\\x95\\x98\\xf4\\x89\\xa1\\xd1\\xd1\\xc0\\xe8\\xbc\\xbd\\xa5\\xb1\\xe5\\x85\\x85\\xb1\\xd1\\xcd\\xa1\\xd1\\x95\\xe5\\xb8\\xb9\\x8d\\xbd\\xb4\\xbc\\x88\\x81\\xd1\\x85\\xc9\\x9d\\x95\\xd0\\xf4\\x89}\\x89\\xb1\\x85\\xb9\\xac\\x88\\xf9\\xb5\\xe4\\x81\\xdd\\x95\\x89\\xcd\\xa5\\xd1\\x94\\xf0\\xbd\\x84.<br></div><div><br></div><div>Thanks!</div><div>Ilya</div></div>\\r\\n'"
      ]
     },
     "execution_count": 68,
     "metadata": {},
     "output_type": "execute_result"
    }
   ],
   "source": [
    "base64.b64decode('PGRpdiBkaXI9Imx0ciI-SGkgR2lsYWQsPGRpdj48YnI-PC9kaXY-PGRpdj5JIGp1c3QgYXBwbGllZCBmb3IgdGhlwqA8YSBocmVmPSJodHRwOi8vZHN0aWxsZXJ5LmNvbS9jYXJlZXJzL2xpc3RpbmdzL2RldGFpbHMvP2doX2ppZD00Njc2MjYiIHRhcmdldD0iX2JsYW5rIj5EYXRhIFNjaWVudGlzdDwvYT4gcG9zaXRpb24geW91IGhhdmUgb3BlbiBhdCBEc3RpbGxlcnkuIEl0IGxvb2tzIGxpa2UgYSBncmVhdCBmaXQsIHNvIEkgd2FudGVkIHRvIGZvbGxvdyB1cCB3aXRoIGEgbm90ZS4gQXJlIHlvdSB0aGUgcmlnaHQgcGVyc29uIHRvIHRhbGsgdG8gYWJvdXQgYXBwbHlpbmc_PC9kaXY-PGRpdj48YnI-PC9kaXY-PGRpdj48ZGl2PkkgaGF2ZSA1IHllYXJzIG9mIGV4cGVyaWVuY2Ugd29ya2luZyB3aXRoIHF1YW50aXRhdGl2ZSBkYXRhLCBpbmNsdWRpbmcgTllDIHdvcmsgZXhwZXJpZW5jZSBhcyBhIGRhdGEgc2NpZW50aXN0LiBJIGhhdmUgZXhwZXJpZW5jZSB3cml0aW5nIHByb2R1Y3Rpb24gY29kZSBpbiBQeXRob24gYW5kIGRldmVsb3BpbmcgbWFjaGluZSBsZWFybmluZyBtb2RlbHMgdXNpbmcgaXRzIGRhdGEgc2NpZW5jZSBsaWJyYXJpZXMsIEkgdXNlIFNRTCBhbmQgVU5JWCBkYWlseSwgYW5kIGhhdmUgYSBiYWNrZ3JvdW5kIGluIHF1YW50aXRhdGl2ZSBhY2FkZW1pYyByZXNlYXJjaC48L2Rpdj48L2Rpdj48ZGl2Pjxicj48L2Rpdj48ZGl2PkkgYXR0YWNoZWQgbXkgcmVzdW1lIGhlcmUsIGFuZCB5b3UgY2FuIGZpbmQgc29tZSBvZiBteSBwcm9qZWN0cyBvbsKgPGEgaHJlZj0iaHR0cDovL2lseWFhbHRzaHRleW4uY29tLyIgdGFyZ2V0PSJfYmxhbmsiPm15IHdlYnNpdGU8L2E-Ljxicj48L2Rpdj48ZGl2Pjxicj48L2Rpdj48ZGl2PlRoYW5rcyE8L2Rpdj48ZGl2PklseWE8L2Rpdj48L2Rpdj4NCg==')"
   ]
  },
  {
   "cell_type": "code",
   "execution_count": 99,
   "metadata": {
    "collapsed": true
   },
   "outputs": [],
   "source": [
    "em4 = {'snippet': 'Hi Ori, I just applied for the Data Scientist position you have open at Dstillery. It looks like a great fit, so I wanted to follow up with a note to emphasize my interest. I have 5 years of experience', 'internalDate': '1482382021000', 'sizeEstimate': 63296, 'threadId': '15924da92462bb6c', 'labelIds': ['DRAFT', 'STARRED'], 'id': '15924da92462bb6c', 'historyId': '5209736', 'payload': {'mimeType': 'multipart/mixed', 'headers': [{'name': 'MIME-Version', 'value': '1.0'}, {'name': 'Received', 'value': 'by 10.107.11.23 with HTTP; Wed, 21 Dec 2016 20:47:01 -0800 (PST)'}, {'name': 'To', 'value': 'oristitelman@gmail.com'}, {'name': 'Date', 'value': 'Wed, 21 Dec 2016 20:47:01 -0800'}, {'name': 'Message-ID', 'value': '\\\\u003cCADoJwcU6OOVRbDNZiJq0xuGoRkuZaLQ27VmaOG6WWCYq6T4s1Q@mail.gmail.com\\\\u003e'}, {'name': 'Subject', 'value': 'Data scientist interested in Dstillery'}, {'name': 'From', 'value': 'ilya altshteyn \\\\u003cilya.altshteyn@gmail.com\\\\u003e'}, {'name': 'Content-Type', 'value': 'multipart/mixed; boundary=001a11c171becc77b3054437f525'}], 'parts': [{'mimeType': 'multipart/alternative', 'headers': [{'name': 'Content-Type', 'value': 'multipart/alternative; boundary=001a11c171becc77ae054437f523'}], 'parts': [{'mimeType': 'text/plain', 'headers': [{'name': 'Content-Type', 'value': 'text/plain; charset=UTF-8'}], 'body': {'data': 'SGkgT3JpLA0KDQpJIGp1c3QgYXBwbGllZCBmb3IgdGhlIERhdGEgU2NpZW50aXN0IA0KPGh0dHA6Ly9kc3RpbGxlcnkuY29tL2NhcmVlcnMvbGlzdGluZ3MvZGV0YWlscy8_Z2hfamlkPTQ2NzYyNj4gcG9zaXRpb24geW91IA0KaGF2ZSBvcGVuIGF0IERzdGlsbGVyeS4gSXQgbG9va3MgbGlrZSBhIGdyZWF0IGZpdCwgc28gSSB3YW50ZWQgdG8gZm9sbG93IHVwIA0Kd2l0aCBhIG5vdGUgdG8gZW1waGFzaXplIG15IGludGVyZXN0Lg0KDQpJIGhhdmUgNSB5ZWFycyBvZiBleHBlcmllbmNlIHdvcmtpbmcgd2l0aCBxdWFudGl0YXRpdmUgZGF0YSwgaW5jbHVkaW5nIE5ZQyANCndvcmsgZXhwZXJpZW5jZSBhcyBhIGRhdGEgc2NpZW50aXN0LiBJIGhhdmUgZXhwZXJpZW5jZSB3cml0aW5nIHByb2R1Y3Rpb24gDQpjb2RlIGluIFB5dGhvbiBhbmQgZGV2ZWxvcGluZyBtYWNoaW5lIGxlYXJuaW5nIG1vZGVscyB1c2luZyBpdHMgZGF0YSANCnNjaWVuY2UgbGlicmFyaWVzLCBJIHVzZSBTUUwgYW5kIFVOSVggZGFpbHksIGFuZCBoYXZlIGEgYmFja2dyb3VuZCBpbiANCnF1YW50aXRhdGl2ZSBhY2FkZW1pYyByZXNlYXJjaC4NCg0KSSBhdHRhY2hlZCBteSByZXN1bWUgaGVyZSwgYW5kIHlvdSBjYW4gZmluZCBzb21lIG9mIG15IHByb2plY3RzIG9uIG15IA0Kd2Vic2l0ZSA8aHR0cDovL2lseWFhbHRzaHRleW4uY29tLz4uDQoNClBsZWFzZSBsZXQgbWUga25vdyBpZiB5b3UgYWxsIHdvdWxkIGxpa2UgdG8gdGFsay4NCg0KVGhhbmtzIQ0KSWx5YQ0K', 'size': 759}, 'partId': '0.0', 'filename': ''}, {'mimeType': 'text/html', 'headers': [{'name': 'Content-Type', 'value': 'text/html; charset=UTF-8'}, {'name': 'Content-Transfer-Encoding', 'value': 'quoted-printable'}], 'body': {'data': 'PGRpdiBkaXI9Imx0ciI-SGkgT3JpLDxkaXY-PGJyPjwvZGl2PjxkaXY-PGRpdj5JIGp1c3QgYXBwbGllZCBmb3IgdGhlwqA8YSBocmVmPSJodHRwOi8vZHN0aWxsZXJ5LmNvbS9jYXJlZXJzL2xpc3RpbmdzL2RldGFpbHMvP2doX2ppZD00Njc2MjYiIHRhcmdldD0iX2JsYW5rIj5EYXRhIFNjaWVudGlzdDwvYT7CoHBvc2l0aW9uIHlvdSBoYXZlIG9wZW4gYXQgRHN0aWxsZXJ5LiBJdCBsb29rcyBsaWtlIGEgZ3JlYXQgZml0LCBzbyBJIHdhbnRlZCB0byBmb2xsb3cgdXAgd2l0aCBhIG5vdGUgdG8gZW1waGFzaXplIG15IGludGVyZXN0LjwvZGl2PjwvZGl2PjxkaXY-PGJyPjwvZGl2PjxkaXY-SSBoYXZlIDUgeWVhcnMgb2YgZXhwZXJpZW5jZSB3b3JraW5nIHdpdGggcXVhbnRpdGF0aXZlIGRhdGEsIGluY2x1ZGluZyBOWUMgd29yayBleHBlcmllbmNlIGFzIGEgZGF0YSBzY2llbnRpc3QuIEkgaGF2ZSBleHBlcmllbmNlIHdyaXRpbmcgcHJvZHVjdGlvbiBjb2RlIGluIFB5dGhvbiBhbmQgZGV2ZWxvcGluZyBtYWNoaW5lIGxlYXJuaW5nIG1vZGVscyB1c2luZyBpdHMgZGF0YSBzY2llbmNlIGxpYnJhcmllcywgSSB1c2UgU1FMIGFuZCBVTklYIGRhaWx5LCBhbmQgaGF2ZSBhIGJhY2tncm91bmQgaW4gcXVhbnRpdGF0aXZlIGFjYWRlbWljIHJlc2VhcmNoLjwvZGl2PjxkaXY-PGJyPjwvZGl2PjxkaXY-SSBhdHRhY2hlZCBteSByZXN1bWUgaGVyZSwgYW5kIHlvdSBjYW4gZmluZCBzb21lIG9mIG15IHByb2plY3RzIG9uwqA8YSBocmVmPSJodHRwOi8vaWx5YWFsdHNodGV5bi5jb20vIiB0YXJnZXQ9Il9ibGFuayI-bXkgd2Vic2l0ZTwvYT4uPC9kaXY-PGRpdj48YnI-PC9kaXY-PGRpdj5QbGVhc2UgbGV0IG1lIGtub3cgaWYgeW91IGFsbCB3b3VsZCBsaWtlIHRvIHRhbGsuPC9kaXY-PGRpdj48YnI-PC9kaXY-PGRpdj5UaGFua3MhPC9kaXY-PGRpdj5JbHlhPC9kaXY-PC9kaXY-DQo=', 'size': 953}, 'partId': '0.1', 'filename': ''}], 'body': {'size': 0}, 'filename': ''}, {'mimeType': 'application/pdf', 'headers': [{'name': 'Content-Type', 'value': 'application/pdf; name=\"resume altshteyn.pdf\"'}, {'name': 'Content-Disposition', 'value': 'attachment; filename=\"resume altshteyn.pdf\"'}, {'name': 'Content-Transfer-Encoding', 'value': 'base64'}, {'name': 'X-Attachment-Id', 'value': 'f_iwznftqw0'}], 'body': {'attachmentId': 'ANGjdJ-HX5VF-Wza9QnXUx6EqDqEIDNhLxV1eM7CT0pXmxCfI_sNUvouxLCwlRnhL0ctySZPsXBOpSt6AxCpeXxYmPmmPo8ColDTaknNGqZL219ZU_GqEGg1gMkaEgvAIAt-bVSvVxPwMtBXQ9fe-590nvRFOFnmhcYxQ9-yBX-_lOj9IuSgHKfR8e2TV0_Dogh4A9lL3B1ivGiMzgbDBVNfkhRd5PBXcucAB7MYDLdwwHJfioqQRqPxFc4pL-l3XeStgEFTadFuULJj7PN6km2j3kq1T3x6VcvmjxwkDkr591cP_e1R2It5uTTlNg0', 'size': 44215}, 'partId': '1', 'filename': 'resume altshteyn.pdf'}], 'body': {'size': 0}, 'filename': ''}}"
   ]
  },
  {
   "cell_type": "code",
   "execution_count": 108,
   "metadata": {
    "collapsed": false
   },
   "outputs": [
    {
     "name": "stdout",
     "output_type": "stream",
     "text": [
      "SGkgT3JpLA0KDQpJIGp1c3QgYXBwbGllZCBmb3IgdGhlIERhdGEgU2NpZW50aXN0IA0KPGh0dHA6Ly9kc3RpbGxlcnkuY29tL2NhcmVlcnMvbGlzdGluZ3MvZGV0YWlscy8_Z2hfamlkPTQ2NzYyNj4gcG9zaXRpb24geW91IA0KaGF2ZSBvcGVuIGF0IERzdGlsbGVyeS4gSXQgbG9va3MgbGlrZSBhIGdyZWF0IGZpdCwgc28gSSB3YW50ZWQgdG8gZm9sbG93IHVwIA0Kd2l0aCBhIG5vdGUgdG8gZW1waGFzaXplIG15IGludGVyZXN0Lg0KDQpJIGhhdmUgNSB5ZWFycyBvZiBleHBlcmllbmNlIHdvcmtpbmcgd2l0aCBxdWFudGl0YXRpdmUgZGF0YSwgaW5jbHVkaW5nIE5ZQyANCndvcmsgZXhwZXJpZW5jZSBhcyBhIGRhdGEgc2NpZW50aXN0LiBJIGhhdmUgZXhwZXJpZW5jZSB3cml0aW5nIHByb2R1Y3Rpb24gDQpjb2RlIGluIFB5dGhvbiBhbmQgZGV2ZWxvcGluZyBtYWNoaW5lIGxlYXJuaW5nIG1vZGVscyB1c2luZyBpdHMgZGF0YSANCnNjaWVuY2UgbGlicmFyaWVzLCBJIHVzZSBTUUwgYW5kIFVOSVggZGFpbHksIGFuZCBoYXZlIGEgYmFja2dyb3VuZCBpbiANCnF1YW50aXRhdGl2ZSBhY2FkZW1pYyByZXNlYXJjaC4NCg0KSSBhdHRhY2hlZCBteSByZXN1bWUgaGVyZSwgYW5kIHlvdSBjYW4gZmluZCBzb21lIG9mIG15IHByb2plY3RzIG9uIG15IA0Kd2Vic2l0ZSA8aHR0cDovL2lseWFhbHRzaHRleW4uY29tLz4uDQoNClBsZWFzZSBsZXQgbWUga25vdyBpZiB5b3UgYWxsIHdvdWxkIGxpa2UgdG8gdGFsay4NCg0KVGhhbmtzIQ0KSWx5YQ0K\n",
      "PGRpdiBkaXI9Imx0ciI-SGkgT3JpLDxkaXY-PGJyPjwvZGl2PjxkaXY-PGRpdj5JIGp1c3QgYXBwbGllZCBmb3IgdGhlwqA8YSBocmVmPSJodHRwOi8vZHN0aWxsZXJ5LmNvbS9jYXJlZXJzL2xpc3RpbmdzL2RldGFpbHMvP2doX2ppZD00Njc2MjYiIHRhcmdldD0iX2JsYW5rIj5EYXRhIFNjaWVudGlzdDwvYT7CoHBvc2l0aW9uIHlvdSBoYXZlIG9wZW4gYXQgRHN0aWxsZXJ5LiBJdCBsb29rcyBsaWtlIGEgZ3JlYXQgZml0LCBzbyBJIHdhbnRlZCB0byBmb2xsb3cgdXAgd2l0aCBhIG5vdGUgdG8gZW1waGFzaXplIG15IGludGVyZXN0LjwvZGl2PjwvZGl2PjxkaXY-PGJyPjwvZGl2PjxkaXY-SSBoYXZlIDUgeWVhcnMgb2YgZXhwZXJpZW5jZSB3b3JraW5nIHdpdGggcXVhbnRpdGF0aXZlIGRhdGEsIGluY2x1ZGluZyBOWUMgd29yayBleHBlcmllbmNlIGFzIGEgZGF0YSBzY2llbnRpc3QuIEkgaGF2ZSBleHBlcmllbmNlIHdyaXRpbmcgcHJvZHVjdGlvbiBjb2RlIGluIFB5dGhvbiBhbmQgZGV2ZWxvcGluZyBtYWNoaW5lIGxlYXJuaW5nIG1vZGVscyB1c2luZyBpdHMgZGF0YSBzY2llbmNlIGxpYnJhcmllcywgSSB1c2UgU1FMIGFuZCBVTklYIGRhaWx5LCBhbmQgaGF2ZSBhIGJhY2tncm91bmQgaW4gcXVhbnRpdGF0aXZlIGFjYWRlbWljIHJlc2VhcmNoLjwvZGl2PjxkaXY-PGJyPjwvZGl2PjxkaXY-SSBhdHRhY2hlZCBteSByZXN1bWUgaGVyZSwgYW5kIHlvdSBjYW4gZmluZCBzb21lIG9mIG15IHByb2plY3RzIG9uwqA8YSBocmVmPSJodHRwOi8vaWx5YWFsdHNodGV5bi5jb20vIiB0YXJnZXQ9Il9ibGFuayI-bXkgd2Vic2l0ZTwvYT4uPC9kaXY-PGRpdj48YnI-PC9kaXY-PGRpdj5QbGVhc2UgbGV0IG1lIGtub3cgaWYgeW91IGFsbCB3b3VsZCBsaWtlIHRvIHRhbGsuPC9kaXY-PGRpdj48YnI-PC9kaXY-PGRpdj5UaGFua3MhPC9kaXY-PGRpdj5JbHlhPC9kaXY-PC9kaXY-DQo=\n"
     ]
    }
   ],
   "source": [
    "for x in em4['payload']['parts']:\n",
    "    try:\n",
    "        for p1 in x['parts']:\n",
    "            try:\n",
    "                print p1['body']['data']\n",
    "                decoded = base64.b64decode(p1['body']['data']).encode('ASCII')\n",
    "                if decoded:\n",
    "                    print decoded\n",
    "            except:\n",
    "                continue\n",
    "    except:\n",
    "        continue"
   ]
  },
  {
   "cell_type": "code",
   "execution_count": 105,
   "metadata": {
    "collapsed": false
   },
   "outputs": [
    {
     "name": "stdout",
     "output_type": "stream",
     "text": [
      "{'data': 'SGkgT3JpLA0KDQpJIGp1c3QgYXBwbGllZCBmb3IgdGhlIERhdGEgU2NpZW50aXN0IA0KPGh0dHA6Ly9kc3RpbGxlcnkuY29tL2NhcmVlcnMvbGlzdGluZ3MvZGV0YWlscy8_Z2hfamlkPTQ2NzYyNj4gcG9zaXRpb24geW91IA0KaGF2ZSBvcGVuIGF0IERzdGlsbGVyeS4gSXQgbG9va3MgbGlrZSBhIGdyZWF0IGZpdCwgc28gSSB3YW50ZWQgdG8gZm9sbG93IHVwIA0Kd2l0aCBhIG5vdGUgdG8gZW1waGFzaXplIG15IGludGVyZXN0Lg0KDQpJIGhhdmUgNSB5ZWFycyBvZiBleHBlcmllbmNlIHdvcmtpbmcgd2l0aCBxdWFudGl0YXRpdmUgZGF0YSwgaW5jbHVkaW5nIE5ZQyANCndvcmsgZXhwZXJpZW5jZSBhcyBhIGRhdGEgc2NpZW50aXN0LiBJIGhhdmUgZXhwZXJpZW5jZSB3cml0aW5nIHByb2R1Y3Rpb24gDQpjb2RlIGluIFB5dGhvbiBhbmQgZGV2ZWxvcGluZyBtYWNoaW5lIGxlYXJuaW5nIG1vZGVscyB1c2luZyBpdHMgZGF0YSANCnNjaWVuY2UgbGlicmFyaWVzLCBJIHVzZSBTUUwgYW5kIFVOSVggZGFpbHksIGFuZCBoYXZlIGEgYmFja2dyb3VuZCBpbiANCnF1YW50aXRhdGl2ZSBhY2FkZW1pYyByZXNlYXJjaC4NCg0KSSBhdHRhY2hlZCBteSByZXN1bWUgaGVyZSwgYW5kIHlvdSBjYW4gZmluZCBzb21lIG9mIG15IHByb2plY3RzIG9uIG15IA0Kd2Vic2l0ZSA8aHR0cDovL2lseWFhbHRzaHRleW4uY29tLz4uDQoNClBsZWFzZSBsZXQgbWUga25vdyBpZiB5b3UgYWxsIHdvdWxkIGxpa2UgdG8gdGFsay4NCg0KVGhhbmtzIQ0KSWx5YQ0K',\n",
      " 'size': 759}\n"
     ]
    }
   ],
   "source": [
    "pprint.pprint(em4['payload']['parts'][0]['parts'][0]['body'])"
   ]
  },
  {
   "cell_type": "code",
   "execution_count": 117,
   "metadata": {
    "collapsed": false
   },
   "outputs": [
    {
     "ename": "TypeError",
     "evalue": "'module' object is not callable",
     "output_type": "error",
     "traceback": [
      "\u001b[0;31m---------------------------------------------------------------------------\u001b[0m",
      "\u001b[0;31mTypeError\u001b[0m                                 Traceback (most recent call last)",
      "\u001b[0;32m<ipython-input-117-a021ce365195>\u001b[0m in \u001b[0;36m<module>\u001b[0;34m()\u001b[0m\n\u001b[1;32m      1\u001b[0m \u001b[0;32mimport\u001b[0m \u001b[0memail\u001b[0m\u001b[0;34m\u001b[0m\u001b[0m\n\u001b[0;32m----> 2\u001b[0;31m \u001b[0memail\u001b[0m\u001b[0;34m.\u001b[0m\u001b[0mmessage\u001b[0m\u001b[0;34m(\u001b[0m\u001b[0mstr\u001b[0m\u001b[0;34m(\u001b[0m\u001b[0mem\u001b[0m\u001b[0;34m)\u001b[0m\u001b[0;34m)\u001b[0m\u001b[0;34m.\u001b[0m\u001b[0mget_payload\u001b[0m\u001b[0;34m(\u001b[0m\u001b[0;34m)\u001b[0m\u001b[0;34m\u001b[0m\u001b[0m\n\u001b[0m",
      "\u001b[0;31mTypeError\u001b[0m: 'module' object is not callable"
     ]
    }
   ],
   "source": [
    "import email\n",
    "email.message(str(em)).get_payload()"
   ]
  },
  {
   "cell_type": "code",
   "execution_count": 118,
   "metadata": {
    "collapsed": true
   },
   "outputs": [],
   "source": [
    "rawm = {'snippet': 'Seems like data scientists in NYC switch jobs pretty often, based on looking around linked in. I&#39;d guess about once every 15-20 months on average. So it could be a retention problem. Yea I&#39;ll', 'raw': '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', 'internalDate': '1482429144000', 'sizeEstimate': 15796, 'threadId': '15916535d0c72814', 'labelIds': ['SENT'], 'id': '15927a99d2a54527', 'historyId': '5213727'}"
   ]
  },
  {
   "cell_type": "code",
   "execution_count": 129,
   "metadata": {
    "collapsed": false
   },
   "outputs": [
    {
     "name": "stdout",
     "output_type": "stream",
     "text": [
      "MIME-Version: 1.0\r\n",
      "Received: by 10.107.11.23 with HTTP; Thu, 22 Dec 2016 09:52:24 -0800 (PST)\r\n",
      "In-Reply-To: <CA+dDXL16Bx4imWer9bO5_cDazY0NoCcM1v8yG0ZCY74P1ahBBA@mail.gmail.com>\r\n",
      "References: <CADoJwcUEYc3uW+cpaSTsv6WQz0mDrgwCVfX8c0Y9nkanCteROg@mail.gmail.com\u0003B�O\u0010�J�\u0011\u0016\u0013\f",
      "W�\u0010��\u0016\u000e\u0014�\u0013\u001e",
      "\u0011\f",
      "�\u001c",
      "ҋSYL\u0010�\u0016�S\u0010�^���SP�\u0015��\u0019TV�L\u0014P\u001bXZ[\u000b",
      "��XZ[\u000b",
      "���O�B�O\u0010�Q\u001bҝ�Ռ͑���ޑ��\u001d",
      "T�^\u000b",
      "W��V�\u001d",
      "ڕ[͌�Q�\u000eLќ�L؍\\�\u001a�\u0019��\u001bXZ[\u000b",
      "��XZ[\u000b",
      "���O�B�O\u0010�J�\u0011\u0016\u0013\f",
      "M��\r",
      "\u001a[U�\\�X��W��\u0018^�L\u0013����L]�\u001e",
      "Q�\u0016��M�\u0014\f",
      "XZ\u0010��P\u001bXZ[\u000b",
      "��XZ[\u000b",
      "���@ФF\u0017FS�\u0005F�R�\u0003#\"\u0004FV2\u0003#\u0003\u0013b\u0003\u0003��S#�#B\u0002�\u0003�\u0003\u0000ФFVƗfW&VB�F�\u0006�ǖ\u0012�\u0016�G6�FW��\u0006v�\u0016���6��Ф�W76\u0016vRԔC�\u0003�4\u0014F�v5U&fVD��\u0005t�$��\u0017w\u0007��%D�s\u00174d\u0014�FGS$g7�2�u��V�t\u0006�\u0016���v�\u0016���6���Х7V&�V7C�\u0005&S�\u0006�W��\u0006��rw2\u0006�B\u0006v���s�Фg&�Ӣ\u0006�ǖ\u0012\u0006\u0016�G6�FW��\u0003Ɩǖ\u0012�\u0016�G6�FW��\u0006v�\u0016���6���ХF�\u0004�\u00166ǖ�\u0005vV�6W\"\u0003�vV�6W&�\u00166ǖ�\u0006v�\u0016���6���Ф6��FV�B�G�\u0006S�\u0006�V�F�\u0006\u0017'B�\u0016�FW&�\u0017F�fS�\u0006&�V�F\u0017'��\u0003\u0003\u0016\u0013\u0013\u0013CC\u0003�VS�fS\u0003�c\u0003SCCC&VV#�РТ��\u0003\u0003\u0016\u0013\u0013\u0013CC\u0003�VS�fS\u0003�c\u0003SCCC&VV#�Ф6��FV�B�G�\u0006S�\u0007FW�B�\u0006�\u0016��\u00066�\u0017'6WC�UDbӀРХ6VV�2\u0006Ɩ�R\u0006F\u0017F\u0012\u000766�V�F�7G2\u0006��\u0004�2\u00077v�F6�\u0006��'2\u0007\u0007&WGG�\u0006�gFV��\u0006&\u00176VB\u0006��Ц������r\u0006\u0017&�V�B\u0006Ɩ�VB\u0006���\u0004�vB\u0006wVW72\u0006\u0016&�WB\u0006��6R\u0006WfW'�\u0003\u0013R�#\u0002\u0006���F�2\u0006��Ц\u0017fW&\u0016vR�\u00056�\u0006�B\u00066�V�B\u0006&R\u0006\u0012\u0007&WFV�F���\u0007\u0007&�&�V��РХ�V\u0012\u0004�v��\u0006�WB\u0007��R\u0006���r\u0007v�V�\u0006��\u0006��\u0006�2\u0006\u0016�B\u0006g&VR�\u0007\u0007&�&ǒ\u0006f�'7B\u0007vVV�\u0006�b\u0006�\u0016��РЦ�ǖ\u0010РФ��\u0005F�R�\u0004FV2\u0003#\"�\u0003#\u0003\u0013b\u0006\u0017B\u0003S�S�\u0004\u0014��\u0004�\u00166ǖ�\u0005vV�6W\"\u0003�vV�6W&�\u00166ǖ�\u0006v�\u0016���6���Чw&�FS�РУ�\u0004�\u0007F���\u0004�\u0006\u0017\u0007\u0006ƖVB\u0007F�\u0006��7B\u0006�b\u0007F��6R\u00066��\u0006\u0016�W2\u0006\u0017B\u00076��R\u0007\u0006���B�\u0004�Bw2\u0006gV��У�\u0007F�\u0017B\u0007F�W�\u0006\u0017&R\u0006\u0016�v\u0017�2\u0006��&��r�\u0004V�F�W\"\u0007F�W�\u0006\u0017&R\u0007V�\u0016&�R\u0007F�\u0006\u0017GG&\u00167B\u0006�\"\u0007&WF\u0016��\u0006� У�\u0006�\u0017�&R\u0007F�W�\u0006\u0017&R\u0006�W7B\u0006w&�v��r\u0007F�\u0017B\u0006�V6��\u0005F�R\u0006�\u00177B\u0006��R\u00076VV�2\u0006F�V'FgV��У�У�\u00056V7W&�G�\u000566�&V6\u0017&B\u0006wW�2\u0007vW&R\u0006\u0016��\u0007fW'�\u0006�6R�\u0007F�W�\u0006\u0017&R\u0006&\u00166�VB\u0006'�\u0004v��v�PУ�\u0005fV�GW&W2\u0006\u0016�B\u0007F�W�\u0007\u0006\u0017�\u0006W�G&V�Vǒ\u0007vV���\u0004�B\u0007v\u00172\u0007F�Vv�\u0007F�\u0007GW&�\u0007F�V�\u0006F�v��Р4( Good luck and check in when you are in town. DataKind's offices are closed\r\n",
      "\b\u001c",
      "�\u0018\\�\u001a[��\u001d",
      "\u001b�[ܜ���\u0019�܈\u001d",
      "\u001a\u0019H\u001d",
      "�YZ�\u0018�]\b\u001b^H\u001d",
      "\u001c",
      "�]�[\b\u0018�Y\u0019�]\b\u001a\\�\u001d",
      "\u0018\\\u001c",
      "\u0019Y\b\u001b�]\b\u0019�܈\u001d",
      "\u001a\u0019CB��\u001e",
      "YX\\�\u001c",
      "��\u0012I�H\u001c",
      "�\u001aX��[��\u0018\\��[�\b\u0013�K�B��B��\u0010�\u0019Y\\��\u0003B�\u0004�\u00166��PУ�У�\u0004��\u0005GVR�\u0004FV2\u0003#\u0002�\u0003#\u0003\u0013b\u0006\u0017B\u0003\u0013#�3�\u0005\u0004��\u0006�ǖ\u0012\u0006\u0016�G6�FW��\u0003Ɩǖ\u0012�\u0016�G6�FW��\u0006v�\u0016���6��У�\u0000��ɽє�4(�4(���Q��Ё�Ս�́ݥѠ�ѡ��i�ɽ\u0019������\r",
      "��������Q�����ͥ�Յѥ��̰���Ёͽչ��4(���������ԝٔ���չ������������Ё��ȁ���͕�����ܸ4(�\r\n",
      "\u000f�\u0012I�H\u001b\u001b���[��\u001a�\\�\b\u0019�[�\\�[\u001b\u001e",
      "H\u001a[�\u001d",
      "\u001a\u0019H\u001d",
      "\u0019X�\b\u001a[�\u001d",
      "\\�\u001c",
      "�K�\u0012[�\u0019\\�\\�\u0019Y\b\u001a[�\u0019]�\\�]\u001a\u001a[��B��\u0006g&��\u0006��FW&�WB\u0006�b\u0007F���w2\u0007F�\u0006\u0016B\u0007FV6�\u0007F�\u0006f��B\u0006FVƗfW'�\u00076W'f�6W2���\u0004�Bw2\u0007&V\u0016�ǐУ���ɔ�����Ёѡ������������ɽ����́ѡ�Ёѡ��ѕ����́ݽɭ��������$���ͼ������4(> care if I'm working on consumer-facing products or more behind the scenes\r\n",
      "\u000f�\u001c",
      "�\u001d",
      "Y��\b\u0018�]\b\u0018H\u001bZ^\b\u001bو\u0018��\u001a\b\u001a\\�\u001c",
      "\u001c",
      "�ؘX�\u001e",
      "H\u001b[ܙH\u001a[�\u0019\\�\\�\u001a[�˃B��Р��$����Յ��䁥�ѕ�٥�ݕ��ݥѠ�M���ɥ��M��ɕ��ɐ���啅ȁ���������Ёݕ��4(� well. I'm waiting on an email back from the guy there who interviewed me\r\n",
      ">> last time around. If he doesn't respond by the end of the week, I might ask\r\n",
      "\u000f�\u001e",
      "[�H\u0019�܈\u0018[�\u001a[�\u001c",
      "��\u001d",
      "\u001b�\u001d",
      "\u001a\u0019H\u001c",
      "\u0019\\��ۈ\u001e",
      "[�H\u001aۛ��\u001d",
      "\u001a\u0019\\�K�B��У��\u0004ג\u0007\u0006�\u0016�\u0006�2\u0007F�\u0007\u0007&W\u0002\u0006\u0012\u0006'V�6�\u0006�b\u0006\u0017\u0007\u00072\u0006��r�\u0006\u0016�B\u0007F�\u00076V�B\u0007F�V�\u0006�fb\u0006��\u0007v\u0017fW2��У����)���ɹ����Ѡ����Ѡ��!�ɔ�́�䁱��Ёͼ����4(> <https://docs.google.com/spreadsheets/d/1vSh3bqUNzYo28HfEA_5ILlbl2lk8D9UaRvls4FVoUNo/edit?usp=sharing>.\r\n",
      "\u000f�\u0013\u0019]\b\u001bYH\u001aۛ��\u001aY�\u001d",
      "\u001a\u0019\\�I��\u0018[�]\u001a\u001a[��\u001e",
      "[�H\u001d",
      "\u001a\u001a[��\u0012H\u001c",
      "�\u001b�[\u0019\b\u0018Y\u0019\b\u001d",
      "\u001b�\u001a]\u000b",
      "�B��У��\u0004�v��\u0006�WB\u0007��R\u0006���r\u0007v�V�\u0004�v�\u0006&\u00166�\u0006��\u0007F�R\u00066�G��У�4(> Thanks!\r\n",
      "\u000f�\u0012[\u001e",
      "XCB��У��У�4(>\r\n",
      ">>\r\n",
      ">\u0003B��\u0004��\u0004����\u0004FV2\u0003\u0013��\u0003#\u0003\u0013b\u0006\u0017B\u0003\u0013�\u0013�\u0005\u0004��\u0004�\u00166ǖ�\u0005vV�6W\"\u0003�vV�6W&�\u00166ǖ�\u0006v�\u0016���6���У��\u0007w&�FS�Р�4(�� Ilya! So nice to hear from you and happy to have someone cool come back\r\n",
      "\u000f��\u001d",
      "\u001b�\u0013�K�\u0015�\u0019[�\u001e",
      "[�H\u0018\\�H\u0018�X��\u0012I�\u001b\b\u0018�^H\u001e",
      "[�H\u0018H\u0019\u001c",
      "�[�ˈ\u0015�\u0018]\b\u001bXY\u0019H\u001e",
      "[�H\u0019\u0019X�Y\u0019H\u001d",
      "\u001b�\u001b[ݙCB���\u0007F�\u0006\u0016�B\u0007F�V�\u0006&\u00166�\u0006g&��\u0004&W&Ɩ��\u0004�v�\u0006��B\u00077W'\u0007&�6VB\u0006\u0016&�WB\u0007F�R\u0006��'2\u0006��\u0004&W&Ɩ��У��\u0015�ɽ����́�����Ё����������́�́��ѕ���������ѡ�䁑���ѡ�䁹�ٕȁ������4(>> career paths. I can definitely start reading my Linkedin recruiter messages\r\n",
      "\u000f��\u0018Y�Z[�\u0018[�\b\u001c",
      "�[�\b\u0018[�H\u0018���\b\u001bۙ\\�\u001d",
      "\u001b�\u001e",
      "[�K�B���У���$�ٔ�������ɕ��䁱Ս��ͥ����$�݅́�Ё\r",
      "9\u0004���Ȁ܁啅�̸�\u0019ɽ���䁽��4(�> experience at a startup I can say that they are unstable. My boss who hired\r\n",
      ">\u000f�\u001bYH\u001b\u001bݙY\b\u001bYH\u0018[�\b\u0019�]�H\u001bYH\u0018[\u001b\b\u001c",
      "�ܝ\u001c",
      "�\u001bو\u0019�[�\u001c",
      "\u001c",
      "�ڙX�\u001c",
      "�\u001d",
      "\u001b�\u001d",
      "�ܚ�\u001bۋ�\u0012H\u001b\u001bݙY\b\u001b^CB���\u0007FV\u0016�\u0006\u0016�B\u0006�V\u0017&�VB\u0006\u0012\u0007F���\u0005F�V�\u0005�W&�d��\u0006&\u00176�6\u0016�ǒ\u00066�\u0016�vVB\u0006�\u0016�\u0016vV�V�B\u0006\u0016�@У����ѽ�������������䁑�ф�͍�������Q�����܁������ȁݡ��݅́����ѕ��������݅�4(>> like, what is data science and why do we have this remote person in\r\n",
      ">>\b\u0010�����\u001e",
      "[��\u0010[�\b\u001d",
      "\u001a\u0019^H\u0019�\\�Y\b\u001bYK�\u0014��\u0012H\u001d",
      "\u001c",
      "�]�[\u0019Y\b\u0018\\��[�\b\u001d",
      "\u001b�\u0012�[XZX�H\u0018[�\b\u001d",
      "\u001a\u0019H\u0010�\\�]YCB���\u0007&Vv���\u0006�b\u0004g&\u0016�6R\u0006\u0016�B\u0006�\u0016B\u0006\u0012\u00066�W\u0006�R\u0006�b\u0006�ffW'2\u0006'�\u0007F�R\u0006&Vv����r\u0006�b\u0004�\u0017�\u0006g&��У��ݡ����$����͔�\r",
      "��������Q����丁!՝�����х����\u0005�ѕȀ؁ݕ��́$���Ё������4(�� weeks notice with no other job lined up. I was unable to deal with a boss\r\n",
      ">\u000f�\u001d",
      "�\u001b�\u001d",
      "�\\�\u0018H\u001bX[�\\\u001d",
      "[\u0018]\u001a]�H\u001b�\\��\\��\\�\b\u0018[�\b\u0018[�\u0019^\u001d",
      "\u001c",
      "�[Y[\u001e",
      "H\u001c",
      "�\u0018[\u001b\u001b��\u0018�[��\b\u001bكB���\u00066�v�&�W'2�\u0004�Bw2\u0007F�R\u0006f�'7B\u0007F��R\u0006��\u0006ג\u0006ƖfR\u0007v�V�\u0004�\u0006gV��\u0006��\u0006'W&�VB\u0007F�\u0017@У����ɥ�����\u0019Ս��ѡ�͔����̸�]�ѡ���������������ݕ��́$���������܁�ѡ�ȁ������4(�� lined up, including one I accepted from DataKind, a small non profit. They\r\n",
      "\u000f��\u001d",
      "�\\�H\u0018H\u001b\u001a]\u001d",
      "\u001b\u0019H\u001b�\\���\\�\u0018X��]\b\u001bYH\u001a\u0018]�[��\f",
      "�\u001a�؜�\u001a[�\u001d",
      "\u001a\u0019H\u001c",
      "\u0018\\�\b\u001e",
      "YX\\�\b\u0018�]\b\u0012CB���\u0006W�\u0006�\u0016��VB\u0006���W7Fǒ\u0007v�\u0017B\u0006�\u0017\u0007\u0006V�VB�\u00076\u0016�B\u0007F�\u0017B\u0004�\u0007v\u00172\u00076VV���r\u0006\u0012\u0006���r�FW&�\u0006��&PУ���х������ͥѥ�������ѡ��͕����������ݥѠ��и�$���ٕ�䁡���䁡�ɔ����ٔ���4(>> coworkers and just hope they can keep giving me a paycheck and cool\r\n",
      ">>\b\u001c",
      "\u001c",
      "�ڙX�\u001c",
      "�\u001d",
      "\u001b�\u001d",
      "�ܚ�\u001bۋ�B���У���]��Ё�������䁅ɔ��ԁ������������$���ɹ�����ݸ��������ȁ�ɽ��ݡ��4(�> seemed like a pretty cool company called SecurityScorecard. Actually\r\n",
      ">>\b\u001c",
      "�]�\\�[\b\u0014�\\��X[��\u001d",
      "�ܚ�[��\u001d",
      "\u001a\u0019\\�H\u001a[��\u001d",
      "Y\u001a[��\u001d",
      "\u001a\u0019H\u0010�Sˈ\u0012H\u001a\u0018Y\b\u0018H\u0019���\b\u001c",
      "�[\u0018]\u001a[ۜ�\u001a\\\u0003B���\u0007v�F�\u0007F�R\u00044T�\u0006\u0016�B\u0006F�&V7F�\"\u0006�b\u0006F\u0017F\u0012\u000766�V�6R\u0007F�W&R\u0006\u0016�B\u0007v�V�B\u0006&R\u0006�\u0017\u0007\u0007�\u0007F�У�����ɽ�Ս���Ը�$�ݽձ��ѽх��䁡�ٔ������ѕ�����ѡ�́�����ɽ��Ё����������4(>> come up. Cyber security seems pretty hot and like it's not going anywhere.\r\n",
      ">\u000f�\u0013\u0019]\b\u001bYH\u001aۛ��\u001aY�\u0012H\u0018�[�\u001a\u0019[\u001c",
      "\b\u001a[�\u0018[�H\u001d",
      "�^H\u0018[�\b\u0019\u0019Y�[�]\u0019[\u001e",
      "H\u001b\u0019]\b\u001bYH\u001aۛ��\u001aY�\u001e",
      "[�H\u001d",
      "�[�\u0003B���\u0007F�\u0006w&\u0016\"\u0006\u0012\u0006G&��\u0007v�V�\u0007��R\u0006\u0017&R\u0006&\u00166��Р��4(�> Metis has gotten way less cool, FYI. I think they removed the\r\n",
      "\u000f��\u001c",
      "\u0019\\��ۘ[\u001a]\u001e",
      "H\u0019[\u0019[Y[�\b\u0019���H\u001d",
      "\u001a\u0019Z\\�\u001c",
      "�[\u0019X�\u001a[ۈ\u001c",
      "\u001c",
      "���\\�˃B���Р���\r",
      "����̰4(�� Jackie\r\n",
      ">>\u0003B���У���=��5����\u0011����䰀���؁�Ѐ���Ё\u00054����儁���͡ѕ帀�4(>> ilya.altshteyn@gmail.com> wrote:\r\n",
      ">\u000f�B����\u0004�W�\u0004�\u00166��R�У���4(��> I'm on the job market again and I was just checking out your LinkedIn.\r\n",
      "\u000f��\u0004����2\u0006Ɩ�R\u0007��R\u0006F�B\u0006\u0012\u0006&�B\u0006�b\u0007F�R\u00076\u0016�R\u0007F���r\u0004�\u0006F�B\u0006\u0016gFW\"\u0004�WF�2�\u0006��f��r\u0006\u0017&�V�@У�����ɽ���������Ѽ�������丁$�ݽɭ����Ё�ɥ�������������Ȁ����ѡ́�́�4(��> biz analyst, which was way too easy. Then I worked (with Jerad from Metis\r\n",
      "\u000f��\u0006\u00167GV\u0016�ǒ�\u0006\u00172\u0006\u0012\u0006F\u0017F\u0012\u000766�V�F�7B\u0006\u0017B\u0006\u0012\u0006ƗGF�R\u00077F\u0017'GW\u0002\u0007F�\u0017B\u00076�WB\u0006F�v�\u00032\u0006���F�0У������ѕȁ���������4(>>\u0003B���\u0019�ȁѡ�����Ё�������������ѡ́$�݅́����������ȁ���́���\t�ɱ����ݡ�ɔ4(��> the economy is quite different. There's a lot of talent and not a lot of\r\n",
      ">\u000f��\u001a\u001a\\�[�ˈ\u0010]\b\u0019]�\\�H\u001a[�\u0019\\��Y]�\b\u0012H\u0019��\b\u0018\\��Y\b\u0018X��]\b\u001b^H\b��[\\\u001a[��\u0018\\��[�\b�\u0019���H\u001a�؃B����\u0007F�\u0006��\"�\u0004�\u0007F���\u0007F�\u0017B\u0007\u0006V�\u0006�R\u0006F�F�wB\u0007G'W7B\u0007F�\u0017B\u0004�vB\u00077F�6�\u0006\u0017&�V�B���\u0004F�B\u0007��PУ������ٔ�ѡ�Ёͅ�������ɥ�������ѕȁ���٥����ɽ��ཌྷ����ѡ������!�܁��������4(>>\b\u001a]\b\u001d",
      "\u0018Z�H\u001e",
      "[�H\u001d",
      "\u001b�\u0019�[�\b\u001e",
      "[�\\�\u001b\u0018]\u0019\\�\b\u001a�؏�B����У����$������Ё������������Ѽ�9�܁e�ɬ�Ѽ��������ȁ���́ѡ�ɔ����������她�4(�>> to get a bit of an idea of what to expect.\r\n",
      "\u000f��Р�� Hope everything is going well with you.\r\n",
      ">>\u000f�B����\u0005F�\u0016�0У�������4(��>\r\n",
      ">>\u0003B���У�4(\r\n",
      "\r\n",
      "--001a114409ee8fe086054442eeb8\r\n",
      "Content-Type: text/html; charset=UTF-8\r\n",
      "Content-Transfer-Encoding: quoted-printable\r\n",
      "\r\n",
      "<div dir=3D\"ltr\"><div>Seems like data scientists in NYC switch jobs pretty =\r\n",
      "often, based on looking around linked in. I&#39;d guess about once every 15=\r\n",
      "-20 months on average. So it could be a retention problem.<br></div><div><b=\r\n",
      "r></div><div>Yea I&#39;ll let you know when im in nyc and free, probly firs=\r\n",
      "t week of jan.</div><div><br></div><div>ilya</div><div><br></div><div class=\r\n",
      "=3D\"gmail_extra\"><div class=3D\"gmail_quote\">On Thu, Dec 22, 2016 at 5:59 AM=\r\n",
      ", Jaclyn Weiser <span dir=3D\"ltr\">&lt;<a href=3D\"mailto:weiserjaclyn@gmail.=\r\n",
      "com\" target=3D\"_blank\">weiserjaclyn@gmail.com</a>&gt;</span\b\u001d",
      "ܛ�\u0019N�\u0018���\u0018�\u001b�CB���][�\u0019H\u0018�\u0018\\��L�\b��XZ[\u0017�][�\u0019H�\u001c",
      "�\u001e",
      "[\u0019OL�\b�X\\��[��\b\f",
      "\b\f",
      "\b\u000b",
      "�\u0019^\u000e؛ܙ\u0019\\�[\u0019Y�\u000e�\\\u001e",
      "\b\b��CB���\u001c",
      "��\u001aY\u000e�\u0018Y\u0019\u001a[��[\u0019Y�\u000e�Y^\b��F�b\u0006F�#�4B&�G\"#�\u0007F���\u0004�\u0006\u0017\u0007\u0006ƖVB\u0007F�\u0006��7B\u0006�b\u0007F��Ц�6R\u00066��\u0006\u0016�W2\u0006\u0017B\u00076��R\u0007\u0006���B�\u0004�Bb33��2\u0006gV��\u0007F�\u0017B\u0007F�W�\u0006\u0017&R\u0006\u0016�v\u0017�2\u0006��&��r�\u0004V��ЧF�W\"\u0007F�W�\u0006\u0017&R\u0007V�\u0016&�R\u0007F�\u0006\u0017GG&\u00167B\u0006�\"\u0007&WF\u0016��\u0006�\"\u0006�\u0017�&R\u0007F�W�\u0006\u0017&R\u0006�W7B\u0006w&�v��r\u0007F��Ц\u0017B\u0006�V6��\u0005F�R\u0006�\u00177B\u0006��R\u00076VV�2\u0006F�V'FgV���3#�\u0013\u0003�F�`���𽑥����Security Sco=\r\n",
      "recard guys were all very nice, they are backed by Google Ventures and they=\r\n",
      " pay extremely well. It was tough to turn them down.=C2=A0<div\u000f\u0018���\u000b",
      "�\u001a]��\u0019\u000fCB�]�v��B\u0006�V6�\u0006\u0016�B\u00066�V6�\u0006��\u0007v�V�\u0007��R\u0006\u0017&R\u0006��\u0007F�v��\u0004F\u0017F\u0014���Bb33��2\u0006�ff�6W2\u0006\u0017&R\u0003�Ц6��6VB\u00077F\u0017'F��r\u0007F���'&�r\u0006f�\"\u0007F�R\u0007vVV�\u0006'WB\u0006ג\u0007G&\u0017fV�\u0006'VFvWB\u0006�2\u0007F\u0017\u0007\u0006VB\u0006�WB\u0006f��Ч\"\u0007F�R\u0007�V\u0017\"\u00076�\u0004�b33���\u00077F�6���r\u0006\u0017&�V�B\u0004���3#�\u0013\u0003�F�c��'#���F�c��F�c�6�VW'2���Т�F�c��F�c�\u00166��S��F�c���F�c���F�c���F�c��F�b\u00066�\u001773�4B$��V�\"#��F�b\u00066�\u001773�4C�Т&�R#��F�b\u00066�\u001773�4B&v�\u0016���W�G&\u0012#��' �؁�������\u0010������}�սє�On Tue, Dec =\r\n",
      "20, 2016 at 12:39 PM, ilya altshteyn <span dir=3D\"ltr\">&lt;<a href=3D\"mailt=\r\n",
      "o:ilya.altshteyn@gmail.com\" target=3D\"_blank\">ilya.altshteyn@gmail.com</a>&=\r\n",
      "gt;</span> wrote:<br\u000f\u0018�\u001b���][�\u0019H\u0018�\u0018\\��L�\b��XZ[\u0017�][�\u0019H�\u001c",
      "�\u001e",
      "[\u0019OL�\b�X\\��[��\b\f",
      "\b\u000fCB�\b\u000b",
      "�\u0019^\u000e؛ܙ\u0019\\�[\u0019Y�\u000e�\\\u001e",
      "\b\b����\u001c",
      "��\u001aY\u000e�\u0018Y\u0019\u001a[��[\u0019Y�\u000e�Y^\b��\u0019\u001a]�\u0019\u001a\\�L�\b�\u001d",
      "\u001c",
      "��F�\u0017B\u00073�ЧV6�2\u0007v�F�\u0007F�R\u0005�W&�f��\u0006\u0016�B\u00046�FR\u0006\u0016�B\u0005F�V�'�\u00076�GV\u0017F���2�\u0006'WB\u00076�V�G2\u0006Ɩ�R\u0007��Rb3�У3��fR\u0006f�V�B\u0006\u0012\u0006v��B\u00077\u0006�B\u0006f�\"\u0007��W'6V�b\u0006��r��F�c��'#���F�c��F�c�b33���\u0006�������Цr\u0006�W7B\u0006vV�W&\u0016�ǒ\u0006��\u0007F�R\u0007FV6�\u0006��GW7G'��\u0004��FW&W7FVB\u0006��\u0006WfW'�F���r\u0006g&��\u0006��FW&��ЦWB\u0006�b\u0007F���w2\u0007F�\u0006\u0016B\u0007FV6�\u0007F�\u0006f��B\u0006FVƗfW'�\u00076W'f�6W2���\u0004�Bb33��2\u0007&V\u0016�ǒ\u0006��&R\u0006\u0013�Ц&�WB\u0007F�R\u00077\u0006V6�f�2\u0007\u0007&�&�V�2\u0007F�\u0017B\u0007F�R\u0007FV\u0016�\u0006�2\u0007v�&���r\u0006���\u0004�\u0006\u0016�6�\u0006F��b33��B\u00066\u0013�Ч&R\u0006�b\u0004�b33���\u0007v�&���r\u0006��\u00066��7V�W\"�f\u00166��r\u0007\u0007&�GV7G2\u0006�\"\u0006��&R\u0006&V���B\u0007F�R\u000766V�W3�Т\u00077GVfb�\u0006'WB\u0006\u0012\u0006֗�\u0006�b\u0006&�F�\u0006�2\u0007\u0007&�&\u0016&ǒ\u0006��&R\u0006��FW&W7F��r���F�c��F�`���𽑥��4(���I actually interviewed with Security Scorecard a year ago and it went=\r\n",
      " well. I&#39;m waiting on an email back from the guy there who interviewed =\r\n",
      "me last time around. If he doesn&#39;t respond by the end of the week, I mi=\r\n",
      "ght ask you for an intro to the person you know there.</div\u000f\u0019\u001a]��\u0018����F�`�4(���5�������́Ѽ��ɕ�����չ���������́��ܰ�����Ѽ�͕���ѡ����������̴ٕ݅�4(�����)���ɹ����Ѡ����Ѡ��񄁡ɕ���\u0010������輽���̹�������������ɕ��͡���̽���4(��M�͉�U9�e���!�\u0015\u0005|�%1���ɱ��\u0010�U�Iٱ��\u0019Y�U9������������\u0011͡�ɥ����хɝ����\u0010��4)}�������!�ɔ�����́�䁱��Ёͼ��������1�Ё������܁���ѡ�ɔ�����́���ѡ�����4)�ԁѡ����$�͡�ձ������Ѽ��и𽑥��������𽑥�����$��������Ё�ԁ����4)܁ݡ���$�������������ѡ��������</div\u000f\u0019\u001a]��\u0018����F�`���Q����̄𽑥�=\r\n",
      "<span class=3D\"m_1027560384905626576HOEnZb\"><font color=3D\"#888888\"><div>Il=\r\n",
      "ya</div><div><br></div><div><br></div><div><br><div><br></div><div><br></di=\r\n",
      "v></div></font\u000f\u000b",
      "��\u0018[��\u000b",
      "�\u001a]��\u0019\u001a]�\u0018�\u0018\\��L�\b�W�L\f",
      "��M�\f",
      "�\r",
      "\u000eL\r",
      "M���M͒\u0013�[�����\u0019\u001a]�CB�\u0018�\u0018\\��L�\b�W�L\f",
      "��M�\f",
      "�\r",
      "\u000eL\r",
      "M���M͚\r",
      "H��\u0019\u001a]�\u0018�\u0018\\��L�\b��XZ[\u0017�^\u001d",
      "\u001c",
      "�H��\u0018���F�b\u00066�\u00173�Ч3�4B&v�\u0016���\u0017V�FR!=��5����\u0011����䰀���؁�Ѐ����A4��)���币]��͕Ȁ����������4(��\u0010���Ȉ�����񄁡ɕ���\u0010�����Ѽ�ݕ�͕ɩ����\u0001�����������хɝ����\u0010�}������we=\r\n",
      "iserjaclyn@gmail.com</a>&gt;</span> wrote:<br\u000f\u0018�\u001b���][�\u0019H\u0018�\u0018\\��L�\b��XZ[\u0017�]OCB��\u0019H�\u001c",
      "�\u001e",
      "[\u0019OL�\b�X\\��[��\b\f",
      "\b\f",
      "\b\u000b",
      "�\u0019^\u000e؛ܙ\u0019\\�[\u0019Y�\u000e�\\\u001e",
      "\b\b����\u001c",
      "��\u001aY\u000e�\u0018Y\u0019\u001a[��[\u0019Y�\u000e�Y^\u000fCB���\u0019\u001a]�\u0019\u001a\\�L�\b�\u001d",
      "\u001c",
      "���ǖ\u0012\u0012\u00056�\u0006�6R\u0007F�\u0006�V\u0017\"\u0006g&��\u0007��R\u0006\u0016�B\u0006�\u0017\u0007\u0007�\u0007F�\u0006�\u0017fR\u00076��V��S�Т\u00066���\u00066��R\u0006&\u00166�\u0007F�\u0004��\u0005v�V�\u0007��R\u0006\u0017&R\u0006&\u00166�\u0004�b33����\u0006'W�\u0007��R\u0006\u0012\u0006G&���\u0005v�\u0017B\u0006�\u0016C�ЦR\u0007��R\u0006FV6�FR\u0007F�\u0006��fR\u0007F�\u0006\u0016�B\u0007F�V�\u0006&\u00166�\u0006g&��\u0004&W&Ɩ��\u0004�b33���\u0006��B\u00077W'\u0007&�6VB\u0006\u0016#�Ц�WB\u0007F�R\u0006��'2\u0006��\u0004&W&Ɩ��\u0004WW&�\u0006V\u0016�2\u0006F�\u0006��B\u00066�\u0016�vR\u0006��'2\u0006\u00172\u0006�gFV�\u0006\u0016�B\u0006�b\u0007F�W�\u0006C�Ц��\u0007F�W�\u0006�WfW\"\u00066�\u0016�vR\u00066\u0017&VW\"\u0007\u0006\u0017F�2�\u0004�\u00066\u0016�\u0006FVf��FVǒ\u00077F\u0017'B\u0007&V\u0016F��r\u0006ג\u0004Ɩ�VC�Ц��\u0007&V7'V�FW\"\u0006�W76\u0016vW2\u0006\u0016v\u0016��\u0006\u0016�B\u00076V�B\u0006\u0016�\u00066���\u0006��W2\u0007F�\u0007��R��3#�\u0013\u0003�F�c��' ��4)���<div>I&#39;ve been pretty lucky since I was at CNA for 7 years. From my=\r\n",
      " one experience at a startup I can say that they are unstable. My boss who =\r\n",
      "hired me loved me and gave me all sorts of fun projects to work on. I loved=\r\n",
      " my team and learned a ton. Then ZeroFOX basically changed management and s=\r\n",
      "topped doing any data science. The new manager who was non-technical was li=\r\n",
      "ke, what is data science and why do we have this remote person in Brooklyn?=\r\n",
      " And they fired me. So I traveled around to Jamaica and the Basque region o=\r\n",
      "f France and had a couple of offers by the beginning of May from which I ch=\r\n",
      "ose Code and Theory. Huge mistake. After 6 weeks I put in my 2 weeks notice=\r\n",
      " with no other job lined up. I was unable to deal with a boss who was a man=\r\n",
      "ipulative narcissist and an extremely shallow bunch of coworkers. It&#39;s =\r\n",
      "the first time in my life when I full on burned that bridge. Fuck those guy=\r\n",
      "s. Within a couple of weeks I had a few other offers lined up, including on=\r\n",
      "e I accepted from DataKind, a small non profit. They were a little nervous =\r\n",
      "about me having 2 jobs in the past year, but I explained honestly what happ=\r\n",
      "ened, said that I was seeking a long-term more stable position and they see=\r\n",
      "med cool with it. I&#39;m very happy here, love my coworkers and just hope =\r\n",
      "they can keep giving me a paycheck and cool projects to work on.=C2=A0</div=\r\n",
      "\u000f\u0019\u001a]��\u0018����F�`���]��Ё�������䁅ɔ��ԁ������������$���ɹ�����ݸ��������4)�ȁ�ɽ��ݡ�Ё͕�������������ɕ��䁍����������䁍������M���ɥ��M��ɕ��ɐ��\u0005��4)�Յ���͕ٕɅ��I��ͥ��́ݽɭ����ѡ�ɔ�����Ց����ѡ��\r",
      "\u0015<��$������������ɕ����4)���͡���ݥѠ�ѡ��\r",
      "\u0015<�������ɕ�ѽȁ�����ф�͍������ѡ�ɔ�����ݽձ�����������4)Ѽ����ɽ�Ս���Ը�$�ݽձ��ѽх��䁡�ٔ������ѕ�����ѡ�́�����ɽ��Ё���������4(�����Ё���������\r",
      "剕ȁ͕��ɥ��͕��́�ɕ��䁡�Ё����������И����́��Ё������4(����ݡ�ɔ��1�Ё������܁���$����������������݅䁅���������ѕ�䁱�Ё������܀�4)����ԁ݅�ЁѼ��Ʌ�����ɥ���ݡ����ԁ�ɔ�������\f",
      "��\u0004�𽑥�<div><br\u000f\u000b",
      "�\u001a]��C�Ц�c��WF�2\u0006�\u00172\u0006v�GFV�\u0007v\u0017�\u0006�W72\u00066����\u0004e���\u0004�\u0007F���\u0007F�W�\u0007&V��fVB\u0007F�R\u0007\u0006W'6��\u0016ƗC�Ч�\u0006V�V�V�B\u0006g&��\u0007F�V�\"\u00076V�V7F���\u0007\u0007&�6W72��3#�\u0013\u0003��F�c��F�c��'#���F�c��F�c�6�VS�Ч'2���F�c��F�c�\u00166��S��F�c��F�`���𽑥��𽑥���؁�������\u0010��|�������������4(������ٵ|�������������������!=\u0015�i����؁�������\u0010��|������������������ٵ|���4(�����������������Ԉ��؁�������\u0010������}���Ʉ����<div class=3D\"gmail_quo=\r\n",
      "te\"\u0013ۈ\u0013[ۋ\b\u0011\u0019X�\f",
      "NK\b\f",
      "�\f",
      "M�\u0018]\b\r",
      "\u000e�\r",
      "\b\u0010SK\b\u001a[\u001e",
      "XH\u0018[\u001d",
      "\u001c",
      "�\u001d",
      "\u0019^[�\u000f\u001c",
      "�\u0018[�\u0019\u001a\\�L�\b�\u001d",
      "\u001c",
      "��f�C���Ц\u0012\u0006�&Vc�4B&�\u0016��F�ǖ\u0012�\u0016�G6�FW��\u0006v�\u0016���6��\"\u0007F\u0017&vWC�4B%�&�\u0016�!��儹���͡ѕ��4)\u0001�������������������� wrote:<br><blockquote class=3D\"gmail_quote\" style=\r\n",
      "=3D\"margin:0 0 0 .8ex;border-left:1px #ccc solid;padding-left:1ex\"\u000f\u0019\u001a]�\u0019\u001a\\�CB�L�\b�\u001d",
      "\u001c",
      "���\u0019^H\u0012�X��YK\u000f\u0019\u001a]��F�c��' 𽑥�<div>I&#39;m on the job market agai=\r\n",
      "n and I was just checking out your LinkedIn. Looks like you did a bit of th=\r\n",
      "e same thing I did after Metis, moving around from company to company. I wo=\r\n",
      "rked at <a href=3D\"http://priceline.com\" target=3D\"_blank\">priceline.com</a=\r\n",
      "\b\u0019�܈\u000e\b\u001b[۝\u001a\u001c",
      "�\u0018\\�\u0018H\u0018�^�\u0018[�[\u001e",
      "\\�\u000b",
      "\b\u001d",
      "�\u001aX�\b\u001d",
      "�\\�\u001d",
      "�^H\u001d",
      "\u001b��\u0019X\\�K�\u0015\u001a\u0019[�\u0012H\u001d",
      "�ܚ�Y\b\n",
      "\u001d",
      "�]\u000fCB�\b\u0012�\\�Y\b\u0019���H\u0013Y]\u001a\\�\u0018X�\u001d",
      "X[\u001b\u001e",
      "JH\u0018\\�\u0018H\u0019\u0018]\u0018H\u001c",
      "��Y[�\u001a\\�\b\u0018]\b\u0018H\u001b\u001a]\u001d",
      "\u001b\u0019H\u001c",
      "�\u0018\\�\u001d",
      "\\\b\u001d",
      "\u001a\u0018]\b\u001c",
      "�CB�\u001d",
      "]\b\u0019\u001b�ۈ\f",
      "�\u001b[۝\u001a\u001c",
      "�\u0018Y�\u0019\\�\u001aH\u001a��[�Y\u000b",
      "�\u000b",
      "�\u001a]��\u0019\u001a]��\u0018���\u000b",
      "�\u001a]��\u0019\u001a]���܈\u001d",
      "\u001a\u0019H\u001c",
      "\u0018\\�\b\u0018��OCB�\u001b\u0019H\u001bو\u001b[۝\u001a\u001c",
      "�\u0012H\u001d",
      "�\\�\u001b\u001b���[��\u0019�܈\u001a�؜�\u001a[�\u0010�\\�\u001a[�\b\u001d",
      "�\u0019\\�H\u001d",
      "\u001a\u0019H\u0019X�ۛ�^H\u001a\\�\u001c",
      "]Z]\u0019H\u000fCB�\u001aY��\\�[�\u000b",
      "�\u0015\u001a\u0019\\�I���N��\u0018H\u001b\u001b�\b\u001bو\u001d",
      "\u0018[\u0019[�\b\u0018[�\b\u001b��\b\u0018H\u001b\u001b�\b\u001bو\u001a\u001a\\�[�ˈ\u0010]\b\u0019]�\\�H\u001a[�CB�\u0019\\��Y]�\b\u0012H\u0019��\b\u0018\\��Y\b\u0018X��]\b\u001b^H\t�][�\u000eڝ[\\\u001a[��\u0018\\��[�\t�][�\u000e�\u0019���H\u001a�؈\u001d",
      "\u001b�\u001a�؋�\u0012OCB�\u001d",
      "\u001a\u001a[��\u001d",
      "\u001a\u0018]\b\u001c",
      "\u0019[�\u001b\u0019H\u0019\u001aY\u001b����N�\b\u001d",
      "\u001c",
      "�\\�\b\u001d",
      "\u001a\u0018]\b\u0012I���N�\b\u001c",
      "�\u001aX��\u0018\\��[�\u000b",
      "���\u0011\u001aY\b\u001e",
      "[�H\u001a\u0018OCB��H\u001d",
      "\u001a\u0018]\b\u001c",
      "�[YH\u0019^\u001c",
      "\u0019\\�Y[��H\u0018Y�\u0019\\�\u001b\u0019X]�[��\u001e",
      "�\\�ٛ�\u000b",
      "���\u0019J�\u001a\u0019[ܞB\u0004��r\u0006���r\u0006F�B\u0006�B\u0003�ЧF\u0016�R\u0007��R\u0007F�\u0006f��B\u0007��W\"\u0006�\u0017FW7B\u0006��#���F�c���F�c��F�c��'#���F�c��F�c�b33���\u0006�S�Ч7B\u00066�֖�r\u0006&\u00166�\u0007F�\u0004�Wr\u0005��&�\u0007F�\u0006����\u0006f�\"\u0006��'2\u0007F�W&R\u0006\u0016�B\u0006\u0016�\u0007G'���r\u0007F�\u0006vWB\u0006\u0012\u0006&��ЧB\u0006�b\u0006\u0016�\u0006�FV\u0012\u0006�b\u0007v�\u0017B\u0007F�\u0006W�\u0006V7B���F�`�����</div\u000f\u0019\u001a]��\u001b�\u0019H\u0019]�\\�]\u001a\u001a[��\u001a\\�CB�\u0019��[��\u001d",
      "�[\u001b\b\u001d",
      "�]\u001a\b\u001e",
      "[�K�\u000b",
      "�\u001a]��\u0019\u001a]��\u0018���\u000b",
      "�\u001a]��\u0019\u001a]��\u001a\u0018[���\u000b",
      "�\u001a]��\u001c",
      "�\u0018[�\u0018�\u0018\\��L�\b�OCB��L\f",
      "��M�\f",
      "�\r",
      "\u000eL\r",
      "M���M͛W��\u000e\f",
      "\r",
      "�L�M͍\r",
      "\f",
      "�\r",
      "\r",
      "\r",
      "M�\u001bW�L�\r",
      "͌�\r",
      "��͌\r",
      "��N\r",
      "�NL\u0012\u0013�[�����\u0019�ۏCB�\b\u0018��\u001b܏L�\b��\u000e\u000e\u000e\u000e\u000e\b��\u0019\u001a]��ǖ\u0013��F�c���f��C���7\u0006\u0016�𽑥�\r\n",
      "</blockquote\u000f\u000b",
      "�\u001a]��'#���F�c�У��F�`𽑥�</blockquote></div><br></div>\r\n",
      "</div></div></blockquote></div><br\u000f\u000b",
      "�\u001a]�У��F�c���F�c���&��6�\u0017V�FP𽑥�<br></div></div>\r\n",
      "\r\n",
      "--001a114409ee8fe086054442eeb8--\n",
      "\n",
      "\n",
      "\n",
      "\n",
      "\n",
      "\n",
      "\n",
      "\n",
      "\n",
      "\n",
      "\n",
      "\n",
      "\n",
      "\n",
      "\n",
      "\n",
      "\n",
      "\n",
      "\n",
      "\n",
      "\n",
      "\n"
     ]
    }
   ],
   "source": [
    "b = email.message_from_string(rawm['raw'])\n",
    "if b.is_multipart():\n",
    "    for payload in b.get_payload():\n",
    "        # if payload.is_multipart(): ...\n",
    "        print base64.b64decode(payload.get_payload(decode = True))\n",
    "        print '\\n\\n\\n\\n\\n\\n\\n\\n\\n\\n\\n\\n\\n\\n\\n\\n\\n\\n\\n\\n\\n'\n",
    "else:\n",
    "    print base64.b64decode(b.get_payload(decode = True))\n",
    "    print '\\n\\n\\n\\n\\n\\n\\n\\n\\n\\n\\n\\n\\n\\n\\n\\n\\n\\n\\n\\n\\n'"
   ]
  },
  {
   "cell_type": "code",
   "execution_count": 127,
   "metadata": {
    "collapsed": false
   },
   "outputs": [
    {
     "name": "stdout",
     "output_type": "stream",
     "text": [
      "Help on method get_payload in module email.message:\n",
      "\n",
      "get_payload(self, i=None, decode=False) method of email.message.Message instance\n",
      "    Return a reference to the payload.\n",
      "    \n",
      "    The payload will either be a list object or a string.  If you mutate\n",
      "    the list object, you modify the message's payload in place.  Optional\n",
      "    i returns that index into the payload.\n",
      "    \n",
      "    Optional decode is a flag indicating whether the payload should be\n",
      "    decoded or not, according to the Content-Transfer-Encoding header\n",
      "    (default is False).\n",
      "    \n",
      "    When True and the message is not a multipart, the payload will be\n",
      "    decoded if this header's value is `quoted-printable' or `base64'.  If\n",
      "    some other encoding is used, or the header is missing, or if the\n",
      "    payload has bogus data (i.e. bogus base64 or uuencoded data), the\n",
      "    payload is returned as-is.\n",
      "    \n",
      "    If the message is a multipart and the decode flag is True, then None\n",
      "    is returned.\n",
      "\n"
     ]
    }
   ],
   "source": [
    "help(b.get_payload"
   ]
  },
  {
   "cell_type": "code",
   "execution_count": null,
   "metadata": {
    "collapsed": true
   },
   "outputs": [],
   "source": []
  }
 ],
 "metadata": {
  "kernelspec": {
   "display_name": "Python 2",
   "language": "python",
   "name": "python2"
  },
  "language_info": {
   "codemirror_mode": {
    "name": "ipython",
    "version": 2
   },
   "file_extension": ".py",
   "mimetype": "text/x-python",
   "name": "python",
   "nbconvert_exporter": "python",
   "pygments_lexer": "ipython2",
   "version": "2.7.9"
  }
 },
 "nbformat": 4,
 "nbformat_minor": 0
}
